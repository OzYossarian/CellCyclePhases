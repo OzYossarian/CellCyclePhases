{
 "cells": [
  {
   "cell_type": "code",
   "execution_count": null,
   "outputs": [],
   "source": [
    "import pathlib\n",
    "import networkx\n",
    "import pandas as pd\n",
    "import drawing\n",
    "import matplotlib.pyplot as plt\n",
    "import seaborn as sb\n",
    "\n",
    "from ODEs import ODEs\n",
    "from clustering.ClusterSets.HierarchicalClusterSets import HierarchicalClusterSets\n",
    "from clustering.ClusterSets.KMeansClusterSets import KMeansClusterSets\n",
    "from clustering.Snapshots import Snapshots\n",
    "from drawing.utils import display_name\n",
    "from networks.TemporalNetwork import TemporalNetwork"
   ],
   "metadata": {
    "collapsed": false,
    "pycharm": {
     "name": "#%%\n"
    }
   }
  },
  {
   "cell_type": "markdown",
   "source": [
    "## Declare parameters to use throughout"
   ],
   "metadata": {
    "collapsed": false
   }
  },
  {
   "cell_type": "code",
   "execution_count": null,
   "outputs": [],
   "source": [
    "distance_metric = 'euclidean'\n",
    "cluster_method = 'ward'\n",
    "cluster_limit_type = 'maxclust'\n",
    "cluster_limit_range = [2 + (1 * i) for i in range(0, 10)]\n",
    "\n",
    "events = [(12 * i, '', 'dashed') for i in range(4 + 1)]\n",
    "phases = [\n",
    "    (0, 12, 'Day 1'),\n",
    "    (12, 24, 'Night 1'),\n",
    "    (24, 36, 'Day 2'),\n",
    "    (36, 48, 'Night 2')]\n",
    "\n",
    "output_directory = None"
   ],
   "metadata": {
    "collapsed": false,
    "pycharm": {
     "name": "#%%\n"
    }
   }
  },
  {
   "cell_type": "markdown",
   "source": [
    "## Load our temporal network\n",
    "\n",
    "Can be done in a number of ways; see constructors for `TemporalNetwork` for full list of options."
   ],
   "metadata": {
    "collapsed": false
   }
  },
  {
   "cell_type": "code",
   "execution_count": null,
   "outputs": [],
   "source": [
    "node_table_filepath = '../data/temporal_data/circadian/circadian_temporal_node_data_mean_48.csv'\n",
    "static_network_filepath = '../data/static_networks/circadian_net.edgelist'\n",
    "\n",
    "node_table = pd.read_csv(node_table_filepath, sep='\\t', index_col=0)\n",
    "static_network = networkx.read_edgelist(static_network_filepath)\n",
    "\n",
    "temporal_network = TemporalNetwork.from_static_network_and_node_table_dataframe(\n",
    "    static_network,\n",
    "    node_table,\n",
    "    combine_node_weights=lambda x, y: x*y,\n",
    "    threshold=0.5,\n",
    "    binary=False,\n",
    "    normalise=True)\n",
    "temporal_network_name = pathlib.Path(static_network_filepath).stem"
   ],
   "metadata": {
    "collapsed": false,
    "pycharm": {
     "name": "#%%\n"
    }
   }
  },
  {
   "cell_type": "markdown",
   "source": [
    "## Compute cluster and silhouette data over a range of clusters"
   ],
   "metadata": {
    "collapsed": false,
    "pycharm": {
     "name": "#%% md\n"
    }
   }
  },
  {
   "cell_type": "code",
   "execution_count": null,
   "metadata": {
    "collapsed": true
   },
   "outputs": [],
   "source": [
    "snapshots = Snapshots.from_temporal_network(temporal_network, cluster_method, distance_metric)\n",
    "constructor = HierarchicalClusterSets if cluster_method != 'k_means' else KMeansClusterSets\n",
    "cluster_sets = constructor(snapshots, cluster_limit_type, cluster_limit_range)"
   ]
  },
  {
   "cell_type": "markdown",
   "source": [
    "## Plot silhouette scores across range of clusters"
   ],
   "metadata": {
    "collapsed": false
   }
  },
  {
   "cell_type": "code",
   "execution_count": null,
   "outputs": [],
   "source": [
    "# Plot\n",
    "gridspec_kw = {\"width_ratios\": [3, 1, 2]}\n",
    "fig, (ax1, ax2, ax3) = plt.subplots(1, 3, figsize=(9, 3), gridspec_kw=gridspec_kw, sharey=True)\n",
    "\n",
    "cluster_sets.plot_with_average_silhouettes((ax1, ax2, ax3))\n",
    "drawing.utils.adjust_margin(ax=ax1, bottom=0.2 if phases else 0.05, top=0.05)\n",
    "ODEs.plot_events(events, ax=ax1)\n",
    "ODEs.plot_phases(phases, ax=ax1, y_pos=0.075, ymax=0.15)\n",
    "\n",
    "# Format\n",
    "ax1.set_xlabel(\"Time\")\n",
    "ax1.set_xticks([6*i for i in range(9)])\n",
    "ax1.set_axisbelow(True)\n",
    "ax1.set_ylabel(display_name(cluster_sets.limit_type))\n",
    "\n",
    "ax2.set_xlabel(\"Average silhouette\")\n",
    "ax2.set_xlim((-0.1, 1.1))\n",
    "ax2.yaxis.set_tick_params(labelleft=True)\n",
    "\n",
    "ax3.set_xlabel(\"Actual # clusters\")\n",
    "ax3.yaxis.set_tick_params(labelleft=True)\n",
    "\n",
    "plt.subplots_adjust(wspace=0.4, top=0.8)\n",
    "fig.suptitle(f\"Hier. clust. method: '{cluster_method}' ({temporal_network_name})\", weight='bold')\n",
    "\n",
    "# Save\n",
    "if output_directory is not None:\n",
    "    filename = f\"{output_directory}/phase_clusters_all_method_{cluster_method}_{temporal_network_name}\"\n",
    "    plt.savefig(f\"{filename}.png\", dpi=250, bbox_inches=\"tight\")\n",
    "    plt.savefig(f\"{filename}.pdf\", dpi=250, bbox_inches=\"tight\")\n"
   ],
   "metadata": {
    "collapsed": false,
    "pycharm": {
     "name": "#%%\n"
    }
   }
  },
  {
   "cell_type": "markdown",
   "source": [
    "## Plot silhouette samples across range of clusters"
   ],
   "metadata": {
    "collapsed": false
   }
  },
  {
   "cell_type": "code",
   "execution_count": null,
   "outputs": [],
   "source": [
    "columns = 4\n",
    "total_subplots = len(cluster_sets)\n",
    "rows = (total_subplots // columns) + (0 if total_subplots % columns == 0 else 1)\n",
    "fig, axs = plt.subplots(nrows=rows, ncols=columns, sharex=True, sharey=True, figsize=(10, 2 * rows))\n",
    "\n",
    "# Plot\n",
    "flat_axs = axs.flatten()\n",
    "cluster_sets.plot_silhouette_samples(axs=axs)\n",
    "\n",
    "# Format\n",
    "flat_axs[0].set_ylim((snapshots.times[0], snapshots.times[-1]))\n",
    "drawing.utils.adjust_margin(ax=flat_axs[0], top=0.05, bottom=0.05)\n",
    "\n",
    "for i, cluster_set in enumerate(cluster_sets):\n",
    "    title = f'{display_name(cluster_set.limit_type)} = {cluster_set.limit}\\n({int(cluster_set.size)} clusters)'\n",
    "    flat_axs[i].set_title(title)\n",
    "    sb.despine(ax=flat_axs[i])\n",
    "\n",
    "xlabel, ylabel = 'Silhouette score', 'Ordered time points'\n",
    "drawing.utils.label_subplot_grid_with_shared_axes(rows, columns, total_subplots, xlabel, ylabel, fig, axs)\n",
    "fig.suptitle(f\"Sample silhouette, method: '{cluster_method}' ({temporal_network_name})\", y=1.00, weight='bold')\n",
    "plt.subplots_adjust(hspace=0.5)\n",
    "\n",
    "# Save\n",
    "if output_directory is not None:\n",
    "    filename = f\"{output_directory}/phase_clusters_silhouette_sample_method_{cluster_method}_{temporal_network_name}\"\n",
    "    plt.savefig(f\"{filename}.png\", dpi=250, bbox_inches=\"tight\")\n",
    "    plt.savefig(f\"{filename}.pdf\", dpi=250, bbox_inches=\"tight\")"
   ],
   "metadata": {
    "collapsed": false,
    "pycharm": {
     "name": "#%%\n"
    }
   }
  }
 ],
 "metadata": {
  "kernelspec": {
   "display_name": "Python 3",
   "language": "python",
   "name": "python3"
  },
  "language_info": {
   "codemirror_mode": {
    "name": "ipython",
    "version": 2
   },
   "file_extension": ".py",
   "mimetype": "text/x-python",
   "name": "python",
   "nbconvert_exporter": "python",
   "pygments_lexer": "ipython2",
   "version": "2.7.6"
  }
 },
 "nbformat": 4,
 "nbformat_minor": 0
}