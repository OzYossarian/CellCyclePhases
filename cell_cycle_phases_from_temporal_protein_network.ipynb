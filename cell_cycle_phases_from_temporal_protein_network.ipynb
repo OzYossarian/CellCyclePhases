{
 "cells": [
  {
   "cell_type": "markdown",
   "metadata": {},
   "source": [
    "# Extraction of cell cycle phases by hierarchical clustering"
   ]
  },
  {
   "cell_type": "markdown",
   "metadata": {},
   "source": [
    "We try to extract the phases of the cell cycle from our temporal network. We do so by:\n",
    "1. Computing similarity/distance between every pair of adjacency snapshots\n",
    "2. Performing hierarchical clustering on these distances"
   ]
  },
  {
   "cell_type": "code",
   "execution_count": null,
   "metadata": {
    "pycharm": {
     "name": "#%%\n"
    }
   },
   "outputs": [],
   "source": [
    "import pathlib\n",
    "import numpy as np\n",
    "import matplotlib.pyplot as plt\n",
    "import scipy\n",
    "import scipy.cluster.hierarchy as sch\n",
    "# ToDo: use 'with' statement instead?\n",
    "import seaborn as sb\n",
    "sb.set_context(\"paper\")\n",
    "\n",
    "from sklearn import metrics\n",
    "from labellines import labelLines\n",
    "from clustering import clustering, silhouettes\n",
    "from temporal_networks.TemporalNetwork import TemporalNetwork\n",
    "from ODEs.ODEsSolutions import ODEsSolutions\n",
    "from ODEs import ODEs"
   ]
  },
  {
   "cell_type": "markdown",
   "metadata": {
    "pycharm": {
     "name": "#%% md\n"
    }
   },
   "source": [
    "## Declare parameters to use throughout"
   ]
  },
  {
   "cell_type": "code",
   "execution_count": null,
   "metadata": {
    "pycharm": {
     "name": "#%%\n"
    }
   },
   "outputs": [],
   "source": [
    "distance_type = 'euclidean'\n",
    "method = 'ward'\n",
    "max_distance = 2\n",
    "max_clusters = 6\n",
    "max_clusters_limit = 15\n",
    "\n",
    "ode_filepath = 'example_data/bychen04_xpp.ode'\n",
    "temporal_network_filepath = \"example_data/tedges_combined_weighted_binary_method_percentage_minmax_p_0.5_clean2.tedges\"\n",
    "output_directory = 'output/'"
   ]
  },
  {
   "cell_type": "markdown",
   "metadata": {},
   "source": [
    "## Load our cell cycle temporal network"
   ]
  },
  {
   "cell_type": "code",
   "execution_count": null,
   "metadata": {
    "pycharm": {
     "name": "#%%\n"
    }
   },
   "outputs": [],
   "source": [
    "temporal_network = TemporalNetwork.from_file(temporal_network_filepath, \"\\s*\\t\\s*\")\n",
    "temporal_network_name = pathlib.Path(temporal_network_filepath).stem"
   ]
  },
  {
   "cell_type": "markdown",
   "source": [
    "### Run Chen"
   ],
   "metadata": {
    "collapsed": false
   }
  },
  {
   "cell_type": "code",
   "execution_count": null,
   "outputs": [],
   "source": [
    "times = np.array(temporal_network.time_points(starting_at_zero=True))\n",
    "true_times = np.array(temporal_network.time_points(starting_at_zero=False))\n",
    "start_time = int(true_times[0])\n",
    "end_time = 1 + int(true_times[-1])\n",
    "\n",
    "odes_solutions = ODEsSolutions(ode_filepath, start_time, end_time)"
   ],
   "metadata": {
    "collapsed": false,
    "pycharm": {
     "name": "#%%\n"
    }
   }
  },
  {
   "cell_type": "code",
   "execution_count": null,
   "outputs": [],
   "source": [
    "fig, ax = plt.subplots()\n",
    "\n",
    "# find local minima\n",
    "mass_series = odes_solutions.series('mass')\n",
    "mass_relative_minima_times = scipy.signal.argrelextrema(mass_series, np.less)\n",
    "mass_relative_minima = mass_series[mass_relative_minima_times]\n",
    "\n",
    "ax.plot(times, mass_series, 'o-')\n",
    "ax.plot(times[mass_relative_minima_times], mass_relative_minima, 'ro')\n",
    "\n",
    "print(f\"min of mass: {mass_relative_minima} at indices {mass_relative_minima_times}\")\n"
   ],
   "metadata": {
    "collapsed": false,
    "pycharm": {
     "name": "#%%\n"
    }
   }
  },
  {
   "cell_type": "markdown",
   "metadata": {
    "pycharm": {
     "name": "#%% md\n"
    }
   },
   "source": [
    "## Complete plot"
   ]
  },
  {
   "cell_type": "code",
   "execution_count": null,
   "metadata": {
    "pycharm": {
     "name": "#%%\n"
    }
   },
   "outputs": [],
   "source": [
    "distance_matrix, distance_matrix_condensed = clustering.compute_snapshot_distances(temporal_network, distance_type)\n",
    "clusters = sch.linkage(distance_matrix_condensed, method=method)\n",
    "clustering.configure_colour_map()\n",
    "fig, (ax1, ax2, ax3) = plt.subplots(3, figsize=(8, 6))\n",
    "\n",
    "# 1. Plot clustering\n",
    "dendrogram_title = 'Dendrogram: hierarchical clustering of snapshots'\n",
    "clustering.plot_dendrogram_from_clusters(clusters, ax=ax1, max_distance=max_distance, title=dendrogram_title)\n",
    "\n",
    "# 2a. Plot scatter graph of clusters\n",
    "flat_clusters = sch.fcluster(clusters, max_clusters, criterion='maxclust')\n",
    "number_of_clusters = len(set(flat_clusters))\n",
    "scatter_graph_title = \\\n",
    "    f\"'Phases' extracted by hierarchical clustering of snapshots, \\n \" \\\n",
    "    f\"with threshold $dist_{{max}} = {max_distance}$ => {number_of_clusters} clusters, \" \\\n",
    "    f\"with '{method}' method\"\n",
    "clustering.plot_scatter_of_phases_from_flat_clusters(\n",
    "    flat_clusters,\n",
    "    times,\n",
    "    number_of_colours=10,\n",
    "    ax=ax2,\n",
    "    title=scatter_graph_title)\n",
    "\n",
    "# 2b. Overlay events\n",
    "sb.set_palette('Dark2', n_colors=8)\n",
    "events = [\n",
    "    (5, 'START', 'dashed'),\n",
    "    (33, 'bud', 'solid'),\n",
    "    (36, 'ori', 'solid'),\n",
    "    (70, 'E3', 'dashed'),\n",
    "    (84, 'spn', 'solid'),\n",
    "    (100, 'mass', 'solid')]\n",
    "ODEs.plot_events(events, ax=ax2, y_pos=0.005, text_x_offset=1)\n",
    "\n",
    "# 3. Plot concentrations and phases\n",
    "variables = ['cln3', 'cln2', 'clb5', 'clb2','mass'] # +['ori']\n",
    "phases = [\n",
    "    (0, 35, 'G1'),\n",
    "    (35, 70, 'S'),\n",
    "    (70, 78, 'G2'),\n",
    "    (78, 100, 'M')]\n",
    "ODEs.plot_concentrations(odes_solutions, variables, times, ax=ax3, norm=True)\n",
    "labelLines(ax3.get_lines(), zorder=2.5, xvals=[10, 90, 95, 55, 30])\n",
    "ODEs.plot_phases(phases, ax=ax3, y_pos=1.1)\n",
    "\n",
    "# Tidy up formatting\n",
    "ax2.get_shared_x_axes().join(ax2, ax3)\n",
    "ax3.autoscale()\n",
    "fig.tight_layout()\n",
    "\n",
    "# Save plots\n",
    "if output_directory is not None:\n",
    "    filename = f\"{output_directory}phases_from_clustering_maxclust_{max_clusters}_mtd_{method}_{temporal_network_name}\"\n",
    "    plt.savefig(f\"{filename}.png\", dpi=250, bbox_inches=\"tight\")\n",
    "    plt.savefig(f\"{filename}.pdf\", dpi=250, bbox_inches=\"tight\")\n",
    "\n",
    "plt.show()\n"
   ]
  },
  {
   "cell_type": "markdown",
   "metadata": {
    "pycharm": {
     "name": "#%% md\n"
    }
   },
   "source": [
    "## Silhouettes\n"
   ]
  },
  {
   "cell_type": "code",
   "execution_count": null,
   "metadata": {
    "pycharm": {
     "name": "#%%\n"
    }
   },
   "outputs": [],
   "source": [
    "max_cluster_range = range(1, max_clusters_limit)\n",
    "silhouette_data = silhouettes.compute_silhouettes_for_max_cluster_range(\n",
    "    clusters,\n",
    "    distance_matrix,\n",
    "    max_cluster_range=max_cluster_range,\n",
    "    number_of_time_points=temporal_network.T)\n",
    "range_of_clusters, numbers_of_clusters, silhouette_samples, average_silhouettes = silhouette_data\n"
   ]
  },
  {
   "cell_type": "code",
   "execution_count": null,
   "metadata": {
    "pycharm": {
     "name": "#%%\n"
    }
   },
   "outputs": [],
   "source": [
    "# Plot array of clusters\n",
    "\n",
    "gridspec_kw={\"width_ratios\": [9,2]}\n",
    "fig, (ax1, ax2) = plt.subplots(1, 2, figsize=(7, 3), gridspec_kw=gridspec_kw)\n",
    "\n",
    "labels = [\n",
    "    int(number_of_clusters) if (i == 0 or np.diff(numbers_of_clusters)[i - 1] != 0) else ''\n",
    "    for i, number_of_clusters\n",
    "    in enumerate(numbers_of_clusters)]\n",
    "\n",
    "clustering.plot_time_clusters(times, range_of_clusters, ax=ax1)\n",
    "clustering.plot_time_clusters_right_axis(max_cluster_range, labels, ax=ax1)\n",
    "silhouettes.plot_average_silhouettes(\n",
    "    average_silhouettes,\n",
    "    numbers_of_clusters,\n",
    "    max_cluster_range,\n",
    "    labels,\n",
    "    ylim=ax1.get_ylim(),\n",
    "    ax=ax2)\n",
    "ODEs.plot_events(events, ax=ax1)\n",
    "ODEs.plot_phases(phases, ax=ax1, y_pos=-1, ymax=0.1)\n",
    "\n",
    "title = f\"Hier. clust. method: '{method}' ({temporal_network_name})\"\n",
    "fig.suptitle(title)\n",
    "plt.subplots_adjust(wspace=0.4, top=0.8)\n",
    "\n",
    "if output_directory is not None:\n",
    "    filename = f\"{output_directory}phase_clusters_all_method_{method}_{temporal_network_name}\"\n",
    "    plt.savefig(f\"{filename}.png\", dpi=250, bbox_inches=\"tight\")\n",
    "    plt.savefig(f\"{filename}.pdf\", dpi=250, bbox_inches=\"tight\")"
   ]
  },
  {
   "cell_type": "code",
   "execution_count": null,
   "metadata": {
    "pycharm": {
     "name": "#%%\n"
    }
   },
   "outputs": [],
   "source": [
    "n_clust_unique, idx_unique = np.unique(n_clust_arr, return_index=True) # indices of unique n_clust values\n",
    "ncols = 4\n",
    "n_unique = len(n_clust_unique) -1 # minus the 1-cluster\n",
    "nrows = n_unique // ncols + n_unique % ncols\n",
    "\n",
    "fig, axs = plt.subplots(nrows=nrows, ncols=ncols, sharex=True, sharey=True, figsize=(10, 2 * nrows))\n",
    "\n",
    "for i, j_uni in enumerate(idx_unique):\n",
    "\n",
    "    ax = axs.flatten()[i-1]\n",
    "\n",
    "    n_clusters = len(set(clusters_arr[j_uni]))\n",
    "\n",
    "    ax.set_title(f\"{n_clusters} clusters\")\n",
    "    plot_silhouette_sample(silhouette_sample_arr[j_uni], clusters_arr[j_uni], silhouette_avg_arr[j_uni], ax=ax)\n",
    "\n",
    "\n",
    "if nrows > 1 :\n",
    "    axes_left = axs[:,0]\n",
    "else :\n",
    "    axes_left = [axs[0]]\n",
    "\n",
    "for ax in axes_left :\n",
    "    ax.set_ylabel(\"Ordered time index\")\n",
    "\n",
    "for ax in axs.flatten()[-ncols:] :\n",
    "    ax.set_xlabel(\"Silhouette score\")\n",
    "\n",
    "fig.suptitle(f\"Sample silhouette, method: '{method}' ({tag})\")\n",
    "\n",
    "plt.subplots_adjust(top=0.8)\n",
    "\n",
    "plt.savefig(f\"{dir_}phase_clusters_silhouette_sample_method_{method}_{tag}.png\", dpi=250, bbox_inches=\"tight\")\n",
    "plt.savefig(f\"{dir_}phase_clusters_silhouette_sample_method_{method}_{tag}.pdf\", dpi=250, bbox_inches=\"tight\")"
   ]
  },
  {
   "cell_type": "markdown",
   "metadata": {},
   "source": [
    "## K-means"
   ]
  },
  {
   "cell_type": "code",
   "execution_count": null,
   "metadata": {
    "pycharm": {
     "name": "#%%\n"
    }
   },
   "outputs": [],
   "source": [
    "snapshots = tnet.df_to_array()\n",
    "snapshots = np.swapaxes(snapshots, 0, 2) # put time as zeroth axis\n",
    "snapshot_flat = snapshots.reshape(T, -1) # each matrix is flattened, represented as a vector\n",
    "\n",
    "print(snapshots.shape)"
   ]
  },
  {
   "cell_type": "code",
   "execution_count": null,
   "metadata": {
    "pycharm": {
     "name": "#%%\n"
    }
   },
   "outputs": [],
   "source": [
    "# methods = ['single', 'complete', 'average', 'ward']\n",
    "# i = 3\n",
    "# method = methods[i]\n",
    "method = \"kmeans\"\n",
    "\n",
    "# # compute dendrogram\n",
    "# linked = shc.linkage(dist_mat_condensed, method=method) #\"ward\")\n",
    "\n",
    "maxclust_max = 15\n",
    "maxclust_range = range(1, maxclust_max)\n",
    "n_maxclust = len(maxclust_range)\n",
    "clusters_arr = np.zeros((n_maxclust, T))\n",
    "n_clust_arr = np.zeros(n_maxclust)\n",
    "\n",
    "silhouette_avg_arr = np.zeros((n_maxclust))\n",
    "silhouette_sample_arr = np.zeros((n_maxclust, T))\n",
    "\n",
    "\n",
    "# compute array of clusters\n",
    "for i, nclust in enumerate(maxclust_range) :\n",
    "\n",
    "    # compute clusters\n",
    "#     clusters = shc.fcluster(linked, maxclust, criterion='maxclust')\n",
    "    clusters = KMeans(n_clusters=nclust, random_state=None).fit_predict(snapshot_flat)\n",
    "\n",
    "    clusters_arr[i] = clusters\n",
    "\n",
    "    n_clusters = len(set(clusters))\n",
    "    n_clust_arr[i] = n_clusters\n",
    "\n",
    "    if n_clusters > 1 :\n",
    "        silhouette_avg = metrics.silhouette_score(snapshot_flat, clusters, metric=\"euclidean\")\n",
    "        silhouette_avg_arr[i] = silhouette_avg\n",
    "\n",
    "        silhouette_sample = metrics.silhouette_samples(snapshot_flat, clusters, metric=\"euclidean\")\n",
    "        silhouette_sample_arr[i] = silhouette_sample\n"
   ]
  },
  {
   "cell_type": "code",
   "execution_count": null,
   "metadata": {
    "pycharm": {
     "name": "#%%\n"
    }
   },
   "outputs": [],
   "source": [
    "# plot array of clusters\n",
    "\n",
    "gridspec_kw={\"width_ratios\": [9,2]}\n",
    "\n",
    "fig, (ax1, ax2) = plt.subplots(1, 2, figsize=(7, 3), gridspec_kw=gridspec_kw)\n",
    "\n",
    "times = np.array(list(set(tnet.network.t))) # todo: deal with times in tnet, must be over 100\n",
    "#-------------- main plot with time clusters\n",
    "cs.plot_time_clusters(times, clusters_arr, ax=ax1)\n",
    "\n",
    "ax1.set_ylabel(\"Max # clusters\")\n",
    "ax1.set_xlabel(\"Times (min)\")\n",
    "\n",
    "ax1.set_xticks(range(0, 100+5, 10))\n",
    "ax1.set_ylim([-1, ax1.get_ylim()[1]])\n",
    "ax1.grid(axis=\"x\")\n",
    "ax1.set_axisbelow(True)\n",
    "sb.despine(ax=ax1)\n",
    "\n",
    "#---------------- twin plot for labels on right\n",
    "ax11 = ax1.twinx()\n",
    "ax11.set_ylim(ax1.get_ylim())\n",
    "ax11.set_yticks(maxclust_range)\n",
    "\n",
    "labels_right = [int(n_clust) if (i==0 or np.diff(n_clust_arr)[i-1]!=0) else '' for i, n_clust in enumerate(n_clust_arr)]\n",
    "ax11.set_yticklabels(labels_right)\n",
    "sb.despine(ax=ax11, right=False)\n",
    "\n",
    "# ax2.set_ylabel(\"Actual # clusters\")\n",
    "\n",
    "#----------- side plot\n",
    "# divider = make_axes_locatable(ax)\n",
    "# ax3 = divider.append_axes(\"top\", 1.2, pad=0.1, sharex=axScatter)\n",
    "# ax2 = divider.append_axes(\"right\", size=1, pad=0.5)#, sharey=ax)\n",
    "\n",
    "ax2.plot(silhouette_avg_arr, n_clust_arr, 'ko-')\n",
    "ax2.set_xlim(xmax=1.1)\n",
    "ax2.set_ylim(ax1.get_ylim())\n",
    "ax2.set_yticks(maxclust_range)\n",
    "ax2.set_yticklabels(labels_right)\n",
    "ax2.set_ylabel(\"Actual # clusters\")\n",
    "ax2.set_xlabel(\"Average silhouette\")\n",
    "\n",
    "fig.suptitle(f\"Hier. clust. method: '{method}' (with {tag})\")\n",
    "\n",
    "# cs.plot_events(ax=ax1)\n",
    "# cs.plot_phases(ax=ax1)\n",
    "\n",
    "plt.subplots_adjust(wspace=0.4, top=0.8)\n",
    "\n",
    "plt.savefig(f\"phase_clusters_kmeans_{tag}.png\", dpi=250, bbox_inches=\"tight\")"
   ]
  },
  {
   "cell_type": "code",
   "execution_count": null,
   "metadata": {
    "pycharm": {
     "name": "#%%\n"
    }
   },
   "outputs": [],
   "source": [
    "times"
   ]
  },
  {
   "cell_type": "markdown",
   "metadata": {
    "pycharm": {
     "name": "#%% md\n"
    }
   },
   "source": [
    "# IGNORE BELOW HERE!"
   ]
  },
  {
   "cell_type": "markdown",
   "metadata": {},
   "source": [
    "## Test on toy snapshots"
   ]
  },
  {
   "cell_type": "code",
   "execution_count": null,
   "metadata": {
    "pycharm": {
     "name": "#%%\n"
    }
   },
   "outputs": [],
   "source": [
    "N = 3\n",
    "T = 4\n",
    "snapshots = np.random.randint(2, size=(T, N, N))"
   ]
  },
  {
   "cell_type": "code",
   "execution_count": null,
   "metadata": {
    "pycharm": {
     "name": "#%%\n"
    }
   },
   "outputs": [],
   "source": [
    "snapshots"
   ]
  },
  {
   "cell_type": "code",
   "execution_count": null,
   "metadata": {
    "pycharm": {
     "name": "#%%\n"
    }
   },
   "outputs": [],
   "source": [
    "_, distance_matrix_condensed = cluster_snapshots.compute_snapshot_distances(snapshots)\n",
    "linked = shc.linkage(distance_matrix_condensed, method=\"ward\")\n",
    "\n",
    "fig, ax = plt.subplots()\n",
    "dend = shc.dendrogram(linked)\n",
    "plt.show()"
   ]
  }
 ],
 "metadata": {
  "kernelspec": {
   "display_name": "Python 3",
   "language": "python",
   "name": "python3"
  },
  "language_info": {
   "codemirror_mode": {
    "name": "ipython",
    "version": 3
   },
   "file_extension": ".py",
   "mimetype": "text/x-python",
   "name": "python",
   "nbconvert_exporter": "python",
   "pygments_lexer": "ipython3",
   "version": "3.7.4"
  }
 },
 "nbformat": 4,
 "nbformat_minor": 1
}