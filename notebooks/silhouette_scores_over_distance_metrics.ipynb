{
 "cells": [
  {
   "cell_type": "code",
   "execution_count": null,
   "metadata": {
    "collapsed": true
   },
   "outputs": [],
   "source": [
    "import pandas as pd\n",
    "import pathlib\n",
    "import networkx\n",
    "import matplotlib.pyplot as plt\n",
    "\n",
    "from ODEs import ODEs\n",
    "from clustering.ClusterSets.HierarchicalClusterSets import HierarchicalClusterSets\n",
    "from clustering.ClusterSets.KMeansClusterSets import KMeansClusterSets\n",
    "from clustering.Snapshots import Snapshots\n",
    "from drawing.silhouettes import calculate_and_plot_silhouettes\n",
    "from drawing.utils import display_name\n",
    "from networks.TemporalNetwork import TemporalNetwork"
   ]
  },
  {
   "cell_type": "markdown",
   "source": [
    "## Declare parameters to use throughout"
   ],
   "metadata": {
    "collapsed": false
   }
  },
  {
   "cell_type": "code",
   "execution_count": null,
   "outputs": [],
   "source": [
    "cluster_method = 'ward'\n",
    "cluster_limit_type = 'maxclust'\n",
    "cluster_limit_range = [2 + (1 * i) for i in range(0, 10)]\n",
    "\n",
    "distance_metrics = [\n",
    "    'cityblock', 'cosine', 'euclidean', 'l1', 'l2', 'manhattan', 'braycurtis', 'canberra', 'chebyshev', 'correlation',\n",
    "    'dice', 'hamming', 'jaccard', 'kulsinski', 'mahalanobis', 'minkowski', 'rogerstanimoto', 'russellrao',\n",
    "    'seuclidean', 'sokalmichener', 'sokalsneath', 'sqeuclidean', 'yule',\n",
    "]\n",
    "\n",
    "events = [(12 * i, '', 'dashed') for i in range(4 + 1)]\n",
    "phases = [\n",
    "    (0, 12, 'Day 1'),\n",
    "    (12, 24, 'Night 1'),\n",
    "    (24, 36, 'Day 2'),\n",
    "    (36, 48, 'Night 2')\n",
    "]\n",
    "\n",
    "output_directory = None"
   ],
   "metadata": {
    "collapsed": false,
    "pycharm": {
     "name": "#%%\n"
    }
   }
  },
  {
   "cell_type": "markdown",
   "source": [
    "### Load/create temporal network"
   ],
   "metadata": {
    "collapsed": false
   }
  },
  {
   "cell_type": "code",
   "execution_count": null,
   "outputs": [],
   "source": [
    "node_table_filepath = '../data/temporal_data/temporal_node_data_mean.csv'\n",
    "static_network_filepath = '../data/static_networks/circadian_net.edgelist'\n",
    "binary = False\n",
    "normalise = True\n",
    "threshold = 0.5\n",
    "\n",
    "node_table = pd.read_csv(node_table_filepath, sep='\\t', index_col=0)\n",
    "static_network = networkx.read_edgelist(static_network_filepath)\n",
    "\n",
    "temporal_network = TemporalNetwork.from_static_network_and_node_table_dataframe(\n",
    "    static_network,\n",
    "    node_table,\n",
    "    combine_node_weights=lambda x, y: x*y,\n",
    "    threshold=threshold,\n",
    "    binary=binary,\n",
    "    normalise=normalise)"
   ],
   "metadata": {
    "collapsed": false,
    "pycharm": {
     "name": "#%%\n"
    }
   }
  },
  {
   "cell_type": "markdown",
   "source": [
    "### Plot across different distance metrics"
   ],
   "metadata": {
    "collapsed": false
   }
  },
  {
   "cell_type": "code",
   "execution_count": null,
   "outputs": [],
   "source": [
    "gridspec_kw = {\"width_ratios\": [3, 1, 2]}\n",
    "figsize = (9, 4*len(distance_metrics))\n",
    "fig, axs = plt.subplots(len(distance_metrics), 3, figsize=figsize, gridspec_kw=gridspec_kw, sharey=True)\n",
    "\n",
    "\n",
    "i = 0\n",
    "for distance_metric in distance_metrics:\n",
    "    row = (axs[i, 0], axs[i, 1], axs[i, 2])\n",
    "    time_ticks = [6 * i for i in range(8 + 1)]\n",
    "    plotted = calculate_and_plot_silhouettes(\n",
    "        row, temporal_network, cluster_method, distance_metric, cluster_limit_type, cluster_limit_range, events,\n",
    "        phases, variable_name='distance_metric', variable=distance_metric, time_ticks=time_ticks)\n",
    "    if plotted:\n",
    "        i += 1\n",
    "\n",
    "for j in range(i, len(distance_metrics)):\n",
    "    for ax in (axs[j, 0], axs[j, 1], axs[j, 2]):\n",
    "        fig.delaxes(ax)\n",
    "\n",
    "title = f'data={pathlib.Path(node_table_filepath).stem}, binary={binary}, normalise={normalise}, threshold={threshold}'\n",
    "title += f'\\ncluster_method={cluster_method}, cluster_limit_type={cluster_limit_type} '\n",
    "fig.suptitle(title, y=0.89, weight='bold')\n",
    "\n",
    "# Save\n",
    "if output_directory is not None:\n",
    "    filename = f\"{output_directory}/silhouette_scores_over_distance_metrics\"\n",
    "    plt.savefig(f\"{filename}.png\", dpi=250, bbox_inches=\"tight\")"
   ],
   "metadata": {
    "collapsed": false,
    "pycharm": {
     "name": "#%%\n"
    }
   }
  }
 ],
 "metadata": {
  "kernelspec": {
   "display_name": "Python 3",
   "language": "python",
   "name": "python3"
  },
  "language_info": {
   "codemirror_mode": {
    "name": "ipython",
    "version": 2
   },
   "file_extension": ".py",
   "mimetype": "text/x-python",
   "name": "python",
   "nbconvert_exporter": "python",
   "pygments_lexer": "ipython2",
   "version": "2.7.6"
  }
 },
 "nbformat": 4,
 "nbformat_minor": 0
}