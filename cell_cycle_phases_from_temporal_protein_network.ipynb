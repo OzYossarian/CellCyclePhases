{
 "cells": [
  {
   "cell_type": "markdown",
   "metadata": {},
   "source": [
    "# Extraction of cell cycle phases by hierarchical clustering"
   ]
  },
  {
   "cell_type": "markdown",
   "metadata": {},
   "source": [
    "We try to extract the phases of the cell cycle from our temporal network. We do so by:\n",
    "1. Computing similarity/distance between every pair of adjacency snapshots\n",
    "2. Performing hierarchical clustering on these distances"
   ]
  },
  {
   "cell_type": "code",
   "execution_count": null,
   "metadata": {
    "pycharm": {
     "name": "#%%\n"
    }
   },
   "outputs": [],
   "source": [
    "import pathlib\n",
    "import scipy\n",
    "import drawing\n",
    "import numpy as np\n",
    "import matplotlib.pyplot as plt\n",
    "import scipy.cluster.hierarchy as sch\n",
    "# ToDo: use 'with' statement instead?\n",
    "import seaborn as sb\n",
    "sb.set_context(\"paper\")\n",
    "\n",
    "from labellines import labelLines\n",
    "from clustering import clustering, silhouetting\n",
    "from clustering.Silhouettes import Silhouettes\n",
    "from temporal_networks.TemporalNetwork import TemporalNetwork\n",
    "from ODEs.ODEsSolutions import ODEsSolutions\n",
    "from ODEs import ODEs"
   ]
  },
  {
   "cell_type": "markdown",
   "metadata": {
    "pycharm": {
     "name": "#%% md\n"
    }
   },
   "source": [
    "## Declare parameters to use throughout"
   ]
  },
  {
   "cell_type": "code",
   "execution_count": null,
   "metadata": {
    "pycharm": {
     "name": "#%%\n"
    }
   },
   "outputs": [],
   "source": [
    "distance_type = 'euclidean'\n",
    "method = 'ward'\n",
    "max_distance = 2\n",
    "max_clusters = 6\n",
    "max_clusters_limit = 15\n",
    "\n",
    "events = [\n",
    "    (5, 'START', 'dashed'),\n",
    "    (33, 'bud', 'solid'),\n",
    "    (36, 'ori', 'solid'),\n",
    "    (70, 'E3', 'dashed'),\n",
    "    (84, 'spn', 'solid'),\n",
    "    (100, 'mass', 'solid')]\n",
    "phases = [\n",
    "    (0, 35, 'G1'),\n",
    "    (35, 70, 'S'),\n",
    "    (70, 78, 'G2'),\n",
    "    (78, 100, 'M')]\n",
    "variables = ['cln3', 'cln2', 'clb5', 'clb2','mass'] # +['ori']\n",
    "\n",
    "ode_filepath = 'example_data/bychen04_xpp.ode'\n",
    "temporal_network_filepath = \"example_data/tedges_combined_weighted_binary_method_percentage_minmax_p_0.5_clean2.tedges\"\n",
    "# output_directory = 'output/'\n",
    "output_directory = None"
   ]
  },
  {
   "cell_type": "markdown",
   "metadata": {},
   "source": [
    "## Load our cell cycle temporal network"
   ]
  },
  {
   "cell_type": "code",
   "execution_count": null,
   "metadata": {
    "pycharm": {
     "name": "#%%\n"
    }
   },
   "outputs": [],
   "source": [
    "temporal_network = TemporalNetwork.from_file(temporal_network_filepath, \"\\s*\\t\\s*\")\n",
    "temporal_network_name = pathlib.Path(temporal_network_filepath).stem"
   ]
  },
  {
   "cell_type": "markdown",
   "source": [
    "### Run Chen"
   ],
   "metadata": {
    "collapsed": false
   }
  },
  {
   "cell_type": "code",
   "execution_count": null,
   "outputs": [],
   "source": [
    "times = np.array(temporal_network.time_points(starting_at_zero=True))\n",
    "true_times = np.array(temporal_network.time_points(starting_at_zero=False))\n",
    "start_time = int(true_times[0])\n",
    "end_time = 1 + int(true_times[-1])\n",
    "\n",
    "odes_solutions = ODEsSolutions(ode_filepath, start_time, end_time)"
   ],
   "metadata": {
    "collapsed": false,
    "pycharm": {
     "name": "#%%\n"
    }
   }
  },
  {
   "cell_type": "code",
   "execution_count": null,
   "outputs": [],
   "source": [
    "fig, ax = plt.subplots()\n",
    "\n",
    "# find local minima\n",
    "mass_series = odes_solutions.series('mass')\n",
    "mass_relative_minima_times = scipy.signal.argrelextrema(mass_series, np.less)\n",
    "mass_relative_minima = mass_series[mass_relative_minima_times]\n",
    "\n",
    "ax.plot(times, mass_series, 'o-')\n",
    "ax.plot(times[mass_relative_minima_times], mass_relative_minima, 'ro')\n",
    "\n",
    "print(f\"min of mass: {mass_relative_minima} at indices {mass_relative_minima_times}\")\n"
   ],
   "metadata": {
    "collapsed": false,
    "pycharm": {
     "name": "#%%\n"
    }
   }
  },
  {
   "cell_type": "markdown",
   "metadata": {
    "pycharm": {
     "name": "#%% md\n"
    }
   },
   "source": [
    "## Complete plot"
   ]
  },
  {
   "cell_type": "code",
   "execution_count": null,
   "metadata": {
    "pycharm": {
     "name": "#%%\n"
    }
   },
   "outputs": [],
   "source": [
    "distance_matrix, distance_matrix_condensed = clustering.compute_snapshot_distances(temporal_network, distance_type)\n",
    "clusters = sch.linkage(distance_matrix_condensed, method=method)\n",
    "drawing.utils.configure_colour_map()\n",
    "fig, (ax1, ax2, ax3) = plt.subplots(3, figsize=(8, 6))\n",
    "\n",
    "# 1. Plot clustering\n",
    "dendrogram_title = 'Dendrogram: hierarchical clustering of snapshots'\n",
    "clustering.plot_dendrogram_from_clusters(clusters, ax=ax1, max_distance=max_distance, title=dendrogram_title)\n",
    "\n",
    "# 2a. Plot scatter graph of clusters\n",
    "flat_clusters = sch.fcluster(clusters, max_clusters, criterion='maxclust')\n",
    "number_of_clusters = len(set(flat_clusters))\n",
    "scatter_graph_title = \\\n",
    "    f\"'Phases' extracted by hierarchical clustering of snapshots, \\n \" \\\n",
    "    f\"with threshold $dist_{{max}} = {max_distance}$ => {number_of_clusters} clusters, \" \\\n",
    "    f\"with '{method}' method\"\n",
    "clustering.plot_scatter_of_phases_from_flat_clusters(\n",
    "    flat_clusters,\n",
    "    times,\n",
    "    number_of_colours=10,\n",
    "    ax=ax2,\n",
    "    title=scatter_graph_title)\n",
    "\n",
    "# 2b. Overlay events\n",
    "sb.set_palette('Dark2', n_colors=8)\n",
    "ODEs.plot_events(events, ax=ax2, y_pos=0.005, text_x_offset=1)\n",
    "\n",
    "# 3. Plot concentrations and phases\n",
    "ODEs.plot_concentrations(odes_solutions, variables, times, ax=ax3, norm=True)\n",
    "labelLines(ax3.get_lines(), zorder=2.5, xvals=[10, 90, 95, 55, 30])\n",
    "ODEs.plot_phases(phases, ax=ax3, y_pos=1.1)\n",
    "\n",
    "# Tidy up formatting\n",
    "ax2.get_shared_x_axes().join(ax2, ax3)\n",
    "ax3.autoscale()\n",
    "fig.tight_layout()\n",
    "\n",
    "# Save plots\n",
    "if output_directory is not None:\n",
    "    filename = f\"{output_directory}phases_from_clustering_maxclust_{max_clusters}_mtd_{method}_{temporal_network_name}\"\n",
    "    plt.savefig(f\"{filename}.png\", dpi=250, bbox_inches=\"tight\")\n",
    "    plt.savefig(f\"{filename}.pdf\", dpi=250, bbox_inches=\"tight\")\n",
    "\n",
    "plt.show()\n"
   ]
  },
  {
   "cell_type": "markdown",
   "metadata": {
    "pycharm": {
     "name": "#%% md\n"
    }
   },
   "source": [
    "## Silhouettes"
   ]
  },
  {
   "cell_type": "code",
   "execution_count": null,
   "metadata": {
    "pycharm": {
     "name": "#%%\n"
    }
   },
   "outputs": [],
   "source": [
    "max_cluster_range = range(1, max_clusters_limit)\n",
    "flat_clusters_silhouettes = Silhouettes.via_flat_clusters(\n",
    "    clusters,\n",
    "    distance_matrix,\n",
    "    max_cluster_range,\n",
    "    metric='precomputed',\n",
    "    number_of_time_points=temporal_network.T)"
   ]
  },
  {
   "cell_type": "code",
   "execution_count": null,
   "metadata": {
    "pycharm": {
     "name": "#%%\n"
    }
   },
   "outputs": [],
   "source": [
    "# Plot clusters and silhouette scores\n",
    "\n",
    "title = f\"Hier. clust. method: '{method}' ({temporal_network_name})\"\n",
    "fig, (ax1, ax2) = silhouetting.plot_average_silhouettes_and_clusters(\n",
    "    flat_clusters_silhouettes,\n",
    "    max_cluster_range,\n",
    "    times,\n",
    "    title)\n",
    "\n",
    "ODEs.plot_events(events, ax=ax1)\n",
    "ODEs.plot_phases(phases, ax=ax1, y_pos=-1, ymax=0.1)\n",
    "\n",
    "if output_directory is not None:\n",
    "    filename = f\"{output_directory}phase_clusters_all_method_{method}_{temporal_network_name}\"\n",
    "    plt.savefig(f\"{filename}.png\", dpi=250, bbox_inches=\"tight\")\n",
    "    plt.savefig(f\"{filename}.pdf\", dpi=250, bbox_inches=\"tight\")\n"
   ]
  },
  {
   "cell_type": "code",
   "execution_count": null,
   "metadata": {
    "pycharm": {
     "name": "#%%\n"
    }
   },
   "outputs": [],
   "source": [
    "fig, axs = silhouetting.plot_silhouette_samples(flat_clusters_silhouettes, columns=4)\n",
    "fig.suptitle(f\"Sample silhouette, method: '{method}' ({temporal_network_name})\")\n",
    "plt.subplots_adjust(hspace=0.4)\n",
    "plt.show()\n",
    "\n",
    "if output_directory is not None:\n",
    "    filename = f\"{output_directory}phase_clusters_silhouette_sample_method_{method}_{temporal_network_name}\"\n",
    "    plt.savefig(f\"{filename}.png\", dpi=250, bbox_inches=\"tight\")\n",
    "    plt.savefig(f\"{filename}.pdf\", dpi=250, bbox_inches=\"tight\")"
   ]
  },
  {
   "cell_type": "markdown",
   "metadata": {},
   "source": [
    "## K-means"
   ]
  },
  {
   "cell_type": "code",
   "execution_count": null,
   "metadata": {
    "pycharm": {
     "name": "#%%\n"
    }
   },
   "outputs": [],
   "source": [
    "snapshots = temporal_network.df_to_array()\n",
    "snapshots = np.swapaxes(snapshots, 0, 2)  # Put time as zero-th axis\n",
    "flat_snapshots = snapshots.reshape(temporal_network.T, -1)\n",
    "\n",
    "k_means_silhouettes = Silhouettes.via_k_means(\n",
    "    flat_snapshots,\n",
    "    max_cluster_range,\n",
    "    metric='euclidean',\n",
    "    number_of_time_points=temporal_network.T)"
   ]
  },
  {
   "cell_type": "code",
   "execution_count": null,
   "outputs": [],
   "source": [
    "method = 'k-means'\n",
    "fig, axs = silhouetting.plot_silhouette_samples(k_means_silhouettes, columns=4)\n",
    "fig.suptitle(f\"Sample silhouette, method: '{method}' ({temporal_network_name})\")\n",
    "plt.subplots_adjust(hspace=0.4)\n",
    "plt.show()\n",
    "\n",
    "if output_directory is not None:\n",
    "    filename = f\"{output_directory}phase_clusters_silhouette_sample_method_{method}_{temporal_network_name}\"\n",
    "    plt.savefig(f\"{filename}.png\", dpi=250, bbox_inches=\"tight\")\n",
    "    plt.savefig(f\"{filename}.pdf\", dpi=250, bbox_inches=\"tight\")\n"
   ],
   "metadata": {
    "collapsed": false,
    "pycharm": {
     "name": "#%%\n"
    }
   }
  },
  {
   "cell_type": "code",
   "execution_count": null,
   "metadata": {
    "pycharm": {
     "name": "#%%\n"
    }
   },
   "outputs": [],
   "source": [
    "# Plot clusters and silhouette scores\n",
    "\n",
    "title = f\"Hier. clust. method: '{method}' ({temporal_network_name})\"\n",
    "fig, (ax1, ax2) = silhouetting.plot_average_silhouettes_and_clusters(\n",
    "    k_means_silhouettes,\n",
    "    max_cluster_range,\n",
    "    times,\n",
    "    title)\n",
    "\n",
    "ODEs.plot_events(events, ax=ax1)\n",
    "ODEs.plot_phases(phases, ax=ax1, y_pos=-1, ymax=0.1)\n",
    "\n",
    "if output_directory is not None:\n",
    "    filename = f\"{output_directory}phase_clusters_all_method_{method}_{temporal_network_name}\"\n",
    "    plt.savefig(f\"{filename}.png\", dpi=250, bbox_inches=\"tight\")\n",
    "    plt.savefig(f\"{filename}.pdf\", dpi=250, bbox_inches=\"tight\")"
   ]
  }
 ],
 "metadata": {
  "kernelspec": {
   "display_name": "Python 3",
   "language": "python",
   "name": "python3"
  },
  "language_info": {
   "codemirror_mode": {
    "name": "ipython",
    "version": 3
   },
   "file_extension": ".py",
   "mimetype": "text/x-python",
   "name": "python",
   "nbconvert_exporter": "python",
   "pygments_lexer": "ipython3",
   "version": "3.7.4"
  }
 },
 "nbformat": 4,
 "nbformat_minor": 1
}