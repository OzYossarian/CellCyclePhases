{
 "cells": [
  {
   "cell_type": "markdown",
   "metadata": {},
   "source": [
    "# Extraction of cell cycle phases by hierarchical clustering"
   ]
  },
  {
   "cell_type": "markdown",
   "metadata": {},
   "source": [
    "We try to extract the phases of the cell cycle from our temporal network. We do so by:\n",
    "1. Computing similarity/distance between every pair of adjacency snapshots\n",
    "2. Performing hierarchical clustering on these distances"
   ]
  },
  {
   "cell_type": "code",
   "execution_count": 1,
   "metadata": {
    "pycharm": {
     "name": "#%%\n"
    }
   },
   "outputs": [],
   "source": [
    "import numpy as np\n",
    "import matplotlib.pyplot as plt\n",
    "import scipy\n",
    "import scipy.cluster.hierarchy as sch\n",
    "\n",
    "# ToDo: use 'with' statement instead?\n",
    "import seaborn as sb\n",
    "from ODEs.ode_solutions import OdeSolutions\n",
    "sb.set_context(\"paper\")\n",
    "\n",
    "from clustering import clustering, drawing\n",
    "from temporal_networks.temporal_network import TemporalNetwork"
   ]
  },
  {
   "cell_type": "markdown",
   "metadata": {
    "pycharm": {
     "name": "#%% md\n"
    }
   },
   "source": [
    "## Declare parameters to use throughout"
   ]
  },
  {
   "cell_type": "code",
   "execution_count": 2,
   "metadata": {
    "pycharm": {
     "name": "#%%\n"
    }
   },
   "outputs": [],
   "source": [
    "distance_type = 'euclidean'\n",
    "method = 'ward'\n",
    "max_distance = 2\n",
    "max_clusters = 6\n",
    "\n",
    "project_base = '/Users/Teague/PycharmProjects/Marseille'\n",
    "ode_filepath = project_base + '/example_data/bychen04_xpp.ode'\n",
    "temporal_network_filepath = \"example_data/tedges_combined_weighted_binary_method_percentage_minmax_p_0.5_clean2.tedges\""
   ]
  },
  {
   "cell_type": "markdown",
   "metadata": {},
   "source": [
    "## Load our cell cycle temporal network"
   ]
  },
  {
   "cell_type": "code",
   "execution_count": 3,
   "metadata": {
    "pycharm": {
     "name": "#%%\n"
    }
   },
   "outputs": [],
   "source": [
    "temporal_network = TemporalNetwork.from_file(temporal_network_filepath, \"\\s*\\t\\s*\")"
   ]
  },
  {
   "cell_type": "markdown",
   "metadata": {
    "pycharm": {
     "name": "#%% md\n"
    }
   },
   "source": [
    "## Plot results"
   ]
  },
  {
   "cell_type": "code",
   "execution_count": 4,
   "metadata": {
    "pycharm": {
     "name": "#%%\n"
    }
   },
   "outputs": [
    {
     "data": {
      "text/plain": "<Figure size 576x432 with 2 Axes>",
      "image/png": "[encoded data removed]"
     },
     "metadata": {
      "needs_background": "light"
     },
     "output_type": "display_data"
    }
   ],
   "source": [
    "clusters = clustering.linkage(temporal_network, distance_type, method)\n",
    "drawing.configure_colour_map()\n",
    "fig, (ax1, ax2) = plt.subplots(2, figsize=(8, 6))\n",
    "# fig, (ax1, ax2, ax3) = plt.subplots(3, figsize=(8, 6))\n",
    "\n",
    "# Plot clustering\n",
    "dendrogram_title = 'Dendrogram: hierarchical clustering of snapshots'\n",
    "drawing.plot_dendrogram_from_clusters(clusters, ax=ax1, max_distance=max_distance, title=dendrogram_title)\n",
    "\n",
    "# Plot scatter graph of phases\n",
    "flat_clusters = sch.fcluster(clusters, max_clusters, criterion='maxclust')\n",
    "number_of_clusters = len(set(flat_clusters))\n",
    "scatter_graph_title = \\\n",
    "    f\"'Phases' extracted by hierarchical clustering of snapshots, \\n \" \\\n",
    "    f\"with threshold $dist_{{max}} = {max_distance}$ => {number_of_clusters} clusters, \" \\\n",
    "    f\"with '{method}' method\"\n",
    "times = np.array(temporal_network.time_points(starting_at_zero=True))\n",
    "drawing.plot_scatter_of_phases_from_flat_clusters(\n",
    "    flat_clusters,\n",
    "    times,\n",
    "    number_of_colours=10,\n",
    "    ax=ax2,\n",
    "    title=scatter_graph_title)\n",
    "\n",
    "plt.show()\n"
   ]
  },
  {
   "cell_type": "markdown",
   "metadata": {},
   "source": [
    "### Run Chen"
   ]
  },
  {
   "cell_type": "code",
   "execution_count": 7,
   "metadata": {
    "pycharm": {
     "name": "#%%\n"
    }
   },
   "outputs": [],
   "source": [
    "true_times = temporal_network.time_points(starting_at_zero=False)\n",
    "start_time, end_time = int(true_times[0]), int(true_times[-1])\n",
    "ode_solutions = OdeSolutions(ode_filepath, start_time, end_time)"
   ]
  },
  {
   "cell_type": "code",
   "execution_count": null,
   "metadata": {
    "pycharm": {
     "name": "#%%\n"
    }
   },
   "outputs": [],
   "source": [
    "fig, ax = plt.subplots()\n",
    "\n",
    "# find local minima\n",
    "mass_series = ode_solutions.series('MASS')\n",
    "mass_relative_minima_times = scipy.signal.argrelextrema(mass_series, np.less)\n",
    "mass_relative_minima = mass_series[mass_relative_minima_times]\n",
    "\n",
    "ax.plot(times, mass_series, 'o-')\n",
    "ax.plot(times[mass_relative_minima_times], mass_relative_minima, 'ro')\n",
    "\n",
    "print(f\"min of mass: {mass_relative_minima} at indices {mass_relative_minima_times}\")"
   ]
  },
  {
   "cell_type": "code",
   "execution_count": null,
   "metadata": {
    "pycharm": {
     "name": "#%%\n"
    }
   },
   "outputs": [],
   "source": [
    "def plot_silhouette_sample(silhouette_sample, clusters, silhouette_avg, ax=None) :\n",
    "\n",
    "    if ax==None:\n",
    "        ax = plt.gca()\n",
    "\n",
    "    n_clust = len(set(clusters))\n",
    "    if n_clust > 10 :\n",
    "        sb.set_palette(\"tab20\")\n",
    "    else :\n",
    "        sb.set_palette(\"tab10\")\n",
    "\n",
    "    y_lower = 1\n",
    "    for i in range(1, n_clust+1):\n",
    "        # Aggregate the silhouette scores for samples belonging to\n",
    "        # cluster i, and sort them\n",
    "        ith_cluster_silhouette_values = silhouette_sample[clusters == i]\n",
    "\n",
    "        ith_cluster_silhouette_values.sort()\n",
    "\n",
    "        size_cluster_i = ith_cluster_silhouette_values.shape[0]\n",
    "        y_upper = y_lower + size_cluster_i\n",
    "\n",
    "#         color = plt.cm.nipy_spectral(float(i) / n_clust)\n",
    "        ax.fill_betweenx(np.arange(y_lower, y_upper),\n",
    "                          0, ith_cluster_silhouette_values,\n",
    "                          facecolor=f\"C{i-1}\", edgecolor=f\"C{i-1}\", alpha=1)\n",
    "\n",
    "        # Label the silhouette plots with their cluster numbers at the middle\n",
    "#         ax.text(-0.05, y_lower + 0.5 * size_cluster_i, str(i))\n",
    "\n",
    "        # Compute the new y_lower for next plot\n",
    "        hpad = 1\n",
    "        y_lower = y_upper + hpad  # 10 for the 0 samples\n",
    "\n",
    "    ax.axvline(x=silhouette_avg, c='k', ls='--')\n",
    "\n",
    "    # ax.set_ylim(1, len(clusters) + n_clust*hpad)\n",
    "\n",
    "    # ax.set_title(f\"The silhouette plot for the {n_clust} clusters.\")\n",
    "#     ax.set_xlabel(\"The silhouette coefficient values\")\n",
    "#     ax.set_ylabel(\"Cluster label\")\n",
    "#     ax.set_yticks([])\n",
    "    sb.despine()\n"
   ]
  },
  {
   "cell_type": "markdown",
   "metadata": {},
   "source": [
    "## Complete plot"
   ]
  },
  {
   "cell_type": "code",
   "execution_count": null,
   "metadata": {
    "pycharm": {
     "name": "#%%\n"
    }
   },
   "outputs": [],
   "source": [
    "#-----------------------------------------------------------------\n",
    "\n",
    "sb.set_palette('Dark2', n_colors=8)\n",
    "var = ['CLN3', 'CLN2', 'CLB5', 'CLB2','MASS'] # +['ori']\n",
    "\n",
    "t_G1 = 0\n",
    "t_S = 36  # duration of G1, 36 min [Chen]\n",
    "t_G2 = 78\n",
    "t_M = 90\n",
    "# cycle time, 101 min [Chen]\n",
    "\n",
    "# phases = np.array([t_G1, t_S, t_G2, t_M, 100])\n",
    "phases = np.array([0, 35, 70, 78, 100])\n",
    "phases_mid = (phases[:-1] + phases[1:]) / 2\n",
    "phases_labels = ['G1', 'S', 'G2', 'M']\n",
    "\n",
    "plot_concentrations(var, times=times[:], ax=ax3, norm=True)\n",
    "labelLines(plt.gca().get_lines(),zorder=2.5, xvals=[10, 90, 95, 55, 30])\n",
    "\n",
    "for i in range(len(phases)-1) :\n",
    "    ax3.axvspan(xmin=phases[i], xmax=phases[i+1], color='k', alpha=+ 0.1*i)\n",
    "\n",
    "    ax3.text(phases_mid[i], 1.1, phases_labels[i], fontweight='bold',\n",
    "             va='bottom', ha='center')\n",
    "\n",
    "#------------------------------------ plot events\n",
    "\n",
    "events_chen = [33, 84,36, 100]\n",
    "event_chen_names = ['bud', 'spn', 'ori', 'mass']\n",
    "for i, event in enumerate(events_chen) :\n",
    "    ax2.axvline(x=event, c='k', label=event_chen_names[i], zorder=-2)\n",
    "    ax2.text(event, 0.005, event_chen_names[i], fontsize='small', rotation=90, va='bottom', ha='right')\n",
    "\n",
    "events = ['START', 'E3']\n",
    "events_times = [5, 70]\n",
    "for i, event in enumerate(events):\n",
    "    ax2.axvline(x=events_times[i], c='k', ls='--', label=event[i], zorder=-2)\n",
    "    ax2.text(events_times[i], 0.005, events[i], fontsize='small', rotation=90, va='bottom', ha='right')\n",
    "\n",
    "\n",
    "# ax2.legend()\n",
    "\n",
    "# plt.tight_layout()\n",
    "\n",
    "ax2.get_shared_x_axes().join(ax2, ax3)\n",
    "ax3.autoscale()\n",
    "plt.subplots_adjust(hspace=0.9)\n",
    "\n",
    "# plt.savefig(f\"phases_from_clustering_maxclust_{maxclust}_mtd_{method}.png\", dpi=250, bbox_inches=\"tight\")\n",
    "plt.savefig(f\"{dir_}phases_from_clustering_maxclust_{maxclust}_mtd_{method}_{tag}.png\", dpi=250, bbox_inches=\"tight\")\n",
    "plt.savefig(f\"{dir_}phases_from_clustering_maxclust_{maxclust}_mtd_{method}_{tag}.pdf\", dpi=250, bbox_inches=\"tight\")\n",
    "\n"
   ]
  },
  {
   "cell_type": "code",
   "execution_count": null,
   "metadata": {
    "pycharm": {
     "name": "#%%\n"
    }
   },
   "outputs": [],
   "source": [
    "methods = ['single', 'complete', 'average', 'ward']\n",
    "i = 3\n",
    "method = methods[i]\n",
    "\n",
    "# compute dendrogram\n",
    "linked = shc.linkage(dist_mat_condensed, method=method) #\"ward\")\n",
    "\n",
    "maxclust_max = 15\n",
    "maxclust_range = range(1, maxclust_max)\n",
    "n_maxclust = len(maxclust_range)\n",
    "clusters_arr = np.zeros((n_maxclust, T))\n",
    "n_clust_arr = np.zeros(n_maxclust)\n",
    "\n",
    "silhouette_avg_arr = np.zeros((n_maxclust))\n",
    "silhouette_sample_arr = np.zeros((n_maxclust, T))\n",
    "\n",
    "times = np.array(list(set(tnet.network.t))) # todo: deal with times in tnet, must be over 100\n",
    "\n",
    "# compute array of clusters\n",
    "for i, maxclust in enumerate(maxclust_range) :\n",
    "\n",
    "    # compute clusters\n",
    "    clusters = shc.fcluster(linked, maxclust, criterion='maxclust')\n",
    "\n",
    "    clusters_arr[i] = clusters\n",
    "\n",
    "    n_clusters = len(set(clusters))\n",
    "    n_clust_arr[i] = n_clusters\n",
    "\n",
    "    if n_clusters > 1 :\n",
    "        silhouette_avg = metrics.silhouette_score(dist_mat, clusters, metric=\"precomputed\")\n",
    "        silhouette_avg_arr[i] = silhouette_avg\n",
    "\n",
    "        silhouette_sample = metrics.silhouette_samples(dist_mat, clusters, metric=\"precomputed\")\n",
    "        silhouette_sample_arr[i] = silhouette_sample\n"
   ]
  },
  {
   "cell_type": "code",
   "execution_count": null,
   "metadata": {
    "pycharm": {
     "name": "#%%\n"
    }
   },
   "outputs": [],
   "source": [
    "# plot array of clusters\n",
    "\n",
    "gridspec_kw={\"width_ratios\": [9,2]}\n",
    "\n",
    "fig, (ax1, ax2) = plt.subplots(1, 2, figsize=(7, 3), gridspec_kw=gridspec_kw)\n",
    "\n",
    "#-------------- main plot with time clusters\n",
    "cs.plot_time_clusters(times, clusters_arr, ax=ax1)\n",
    "\n",
    "ax1.set_ylabel(\"Max # clusters\")\n",
    "ax1.set_xlabel(\"Times (min)\")\n",
    "\n",
    "ax1.set_xticks(range(0, 100+5, 10))\n",
    "ax1.set_ylim([-1, ax1.get_ylim()[1]])\n",
    "ax1.grid(axis=\"x\")\n",
    "ax1.set_axisbelow(True)\n",
    "sb.despine(ax=ax1)\n",
    "\n",
    "#---------------- twin plot for labels on right\n",
    "ax11 = ax1.twinx()\n",
    "ax11.set_ylim(ax1.get_ylim())\n",
    "ax11.set_yticks(maxclust_range)\n",
    "\n",
    "labels_right = [int(n_clust) if (i==0 or np.diff(n_clust_arr)[i-1]!=0) else '' for i, n_clust in enumerate(n_clust_arr)]\n",
    "ax11.set_yticklabels(labels_right)\n",
    "sb.despine(ax=ax11, right=False)\n",
    "\n",
    "# ax2.set_ylabel(\"Actual # clusters\")\n",
    "\n",
    "#----------- side plot\n",
    "# divider = make_axes_locatable(ax)\n",
    "# ax3 = divider.append_axes(\"top\", 1.2, pad=0.1, sharex=axScatter)\n",
    "# ax2 = divider.append_axes(\"right\", size=1, pad=0.5)#, sharey=ax)\n",
    "\n",
    "ax2.plot(silhouette_avg_arr, n_clust_arr, 'ko-')\n",
    "ax2.set_xlim(xmax=1.1)\n",
    "ax2.set_ylim(ax1.get_ylim())\n",
    "ax2.set_yticks(maxclust_range)\n",
    "ax2.set_yticklabels(labels_right)\n",
    "ax2.set_ylabel(\"Actual # clusters\")\n",
    "ax2.set_xlabel(\"Average silhouette\")\n",
    "\n",
    "fig.suptitle(f\"Hier. clust. method: '{method}' ({tag})\")\n",
    "\n",
    "plot_events(ax=ax1)\n",
    "plot_phases(ax=ax1)\n",
    "\n",
    "plt.subplots_adjust(wspace=0.4, top=0.8)\n",
    "\n",
    "# plt.savefig(f\"phase_clusters_all_method_{method}.png\", dpi=250, bbox_inches=\"tight\")\n",
    "# plt.savefig(f\"{dir_}phase_clusters_all_method_{method}_{tag}.png\", dpi=250, bbox_inches=\"tight\")\n",
    "# plt.savefig(f\"{dir_}phase_clusters_all_method_{method}_{tag}.pdf\", dpi=250, bbox_inches=\"tight\")"
   ]
  },
  {
   "cell_type": "code",
   "execution_count": null,
   "metadata": {
    "pycharm": {
     "name": "#%%\n"
    }
   },
   "outputs": [],
   "source": [
    "n_clust_unique, idx_unique = np.unique(n_clust_arr, return_index=True) # indices of unique n_clust values\n",
    "ncols = 4\n",
    "n_unique = len(n_clust_unique) -1 # minus the 1-cluster\n",
    "nrows = n_unique // ncols + n_unique % ncols\n",
    "\n",
    "fig, axs = plt.subplots(nrows=nrows, ncols=ncols, sharex=True, sharey=True, figsize=(10, 2 * nrows))\n",
    "\n",
    "for i, j_uni in enumerate(idx_unique):\n",
    "\n",
    "    ax = axs.flatten()[i-1]\n",
    "\n",
    "    n_clusters = len(set(clusters_arr[j_uni]))\n",
    "\n",
    "    ax.set_title(f\"{n_clusters} clusters\")\n",
    "    plot_silhouette_sample(silhouette_sample_arr[j_uni], clusters_arr[j_uni], silhouette_avg_arr[j_uni], ax=ax)\n",
    "\n",
    "\n",
    "if nrows > 1 :\n",
    "    axes_left = axs[:,0]\n",
    "else :\n",
    "    axes_left = [axs[0]]\n",
    "\n",
    "for ax in axes_left :\n",
    "    ax.set_ylabel(\"Ordered time index\")\n",
    "\n",
    "for ax in axs.flatten()[-ncols:] :\n",
    "    ax.set_xlabel(\"Silhouette score\")\n",
    "\n",
    "fig.suptitle(f\"Sample silhouette, method: '{method}' ({tag})\")\n",
    "\n",
    "plt.subplots_adjust(top=0.8)\n",
    "\n",
    "plt.savefig(f\"{dir_}phase_clusters_silhouette_sample_method_{method}_{tag}.png\", dpi=250, bbox_inches=\"tight\")\n",
    "plt.savefig(f\"{dir_}phase_clusters_silhouette_sample_method_{method}_{tag}.pdf\", dpi=250, bbox_inches=\"tight\")"
   ]
  },
  {
   "cell_type": "markdown",
   "metadata": {},
   "source": [
    "## K-means"
   ]
  },
  {
   "cell_type": "code",
   "execution_count": null,
   "metadata": {
    "pycharm": {
     "name": "#%%\n"
    }
   },
   "outputs": [],
   "source": [
    "snapshots = tnet.df_to_array()\n",
    "snapshots = np.swapaxes(snapshots, 0, 2) # put time as zeroth axis\n",
    "snapshot_flat = snapshots.reshape(T, -1) # each matrix is flattened, represented as a vector\n",
    "\n",
    "print(snapshots.shape)"
   ]
  },
  {
   "cell_type": "code",
   "execution_count": null,
   "metadata": {
    "pycharm": {
     "name": "#%%\n"
    }
   },
   "outputs": [],
   "source": [
    "# methods = ['single', 'complete', 'average', 'ward']\n",
    "# i = 3\n",
    "# method = methods[i]\n",
    "method = \"kmeans\"\n",
    "\n",
    "# # compute dendrogram\n",
    "# linked = shc.linkage(dist_mat_condensed, method=method) #\"ward\")\n",
    "\n",
    "maxclust_max = 15\n",
    "maxclust_range = range(1, maxclust_max)\n",
    "n_maxclust = len(maxclust_range)\n",
    "clusters_arr = np.zeros((n_maxclust, T))\n",
    "n_clust_arr = np.zeros(n_maxclust)\n",
    "\n",
    "silhouette_avg_arr = np.zeros((n_maxclust))\n",
    "silhouette_sample_arr = np.zeros((n_maxclust, T))\n",
    "\n",
    "\n",
    "# compute array of clusters\n",
    "for i, nclust in enumerate(maxclust_range) :\n",
    "\n",
    "    # compute clusters\n",
    "#     clusters = shc.fcluster(linked, maxclust, criterion='maxclust')\n",
    "    clusters = KMeans(n_clusters=nclust, random_state=None).fit_predict(snapshot_flat)\n",
    "\n",
    "    clusters_arr[i] = clusters\n",
    "\n",
    "    n_clusters = len(set(clusters))\n",
    "    n_clust_arr[i] = n_clusters\n",
    "\n",
    "    if n_clusters > 1 :\n",
    "        silhouette_avg = metrics.silhouette_score(snapshot_flat, clusters, metric=\"euclidean\")\n",
    "        silhouette_avg_arr[i] = silhouette_avg\n",
    "\n",
    "        silhouette_sample = metrics.silhouette_samples(snapshot_flat, clusters, metric=\"euclidean\")\n",
    "        silhouette_sample_arr[i] = silhouette_sample\n"
   ]
  },
  {
   "cell_type": "code",
   "execution_count": null,
   "metadata": {
    "pycharm": {
     "name": "#%%\n"
    }
   },
   "outputs": [],
   "source": [
    "# plot array of clusters\n",
    "\n",
    "gridspec_kw={\"width_ratios\": [9,2]}\n",
    "\n",
    "fig, (ax1, ax2) = plt.subplots(1, 2, figsize=(7, 3), gridspec_kw=gridspec_kw)\n",
    "\n",
    "times = np.array(list(set(tnet.network.t))) # todo: deal with times in tnet, must be over 100\n",
    "#-------------- main plot with time clusters\n",
    "cs.plot_time_clusters(times, clusters_arr, ax=ax1)\n",
    "\n",
    "ax1.set_ylabel(\"Max # clusters\")\n",
    "ax1.set_xlabel(\"Times (min)\")\n",
    "\n",
    "ax1.set_xticks(range(0, 100+5, 10))\n",
    "ax1.set_ylim([-1, ax1.get_ylim()[1]])\n",
    "ax1.grid(axis=\"x\")\n",
    "ax1.set_axisbelow(True)\n",
    "sb.despine(ax=ax1)\n",
    "\n",
    "#---------------- twin plot for labels on right\n",
    "ax11 = ax1.twinx()\n",
    "ax11.set_ylim(ax1.get_ylim())\n",
    "ax11.set_yticks(maxclust_range)\n",
    "\n",
    "labels_right = [int(n_clust) if (i==0 or np.diff(n_clust_arr)[i-1]!=0) else '' for i, n_clust in enumerate(n_clust_arr)]\n",
    "ax11.set_yticklabels(labels_right)\n",
    "sb.despine(ax=ax11, right=False)\n",
    "\n",
    "# ax2.set_ylabel(\"Actual # clusters\")\n",
    "\n",
    "#----------- side plot\n",
    "# divider = make_axes_locatable(ax)\n",
    "# ax3 = divider.append_axes(\"top\", 1.2, pad=0.1, sharex=axScatter)\n",
    "# ax2 = divider.append_axes(\"right\", size=1, pad=0.5)#, sharey=ax)\n",
    "\n",
    "ax2.plot(silhouette_avg_arr, n_clust_arr, 'ko-')\n",
    "ax2.set_xlim(xmax=1.1)\n",
    "ax2.set_ylim(ax1.get_ylim())\n",
    "ax2.set_yticks(maxclust_range)\n",
    "ax2.set_yticklabels(labels_right)\n",
    "ax2.set_ylabel(\"Actual # clusters\")\n",
    "ax2.set_xlabel(\"Average silhouette\")\n",
    "\n",
    "fig.suptitle(f\"Hier. clust. method: '{method}' (with {tag})\")\n",
    "\n",
    "# cs.plot_events(ax=ax1)\n",
    "# cs.plot_phases(ax=ax1)\n",
    "\n",
    "plt.subplots_adjust(wspace=0.4, top=0.8)\n",
    "\n",
    "plt.savefig(f\"phase_clusters_kmeans_{tag}.png\", dpi=250, bbox_inches=\"tight\")"
   ]
  },
  {
   "cell_type": "code",
   "execution_count": null,
   "metadata": {
    "pycharm": {
     "name": "#%%\n"
    }
   },
   "outputs": [],
   "source": [
    "times"
   ]
  },
  {
   "cell_type": "markdown",
   "metadata": {
    "pycharm": {
     "name": "#%% md\n"
    }
   },
   "source": [
    "# IGNORE BELOW HERE!"
   ]
  },
  {
   "cell_type": "markdown",
   "metadata": {},
   "source": [
    "## Test on toy snapshots"
   ]
  },
  {
   "cell_type": "code",
   "execution_count": null,
   "metadata": {
    "pycharm": {
     "name": "#%%\n"
    }
   },
   "outputs": [],
   "source": [
    "N = 3\n",
    "T = 4\n",
    "snapshots = np.random.randint(2, size=(T, N, N))"
   ]
  },
  {
   "cell_type": "code",
   "execution_count": null,
   "metadata": {
    "pycharm": {
     "name": "#%%\n"
    }
   },
   "outputs": [],
   "source": [
    "snapshots"
   ]
  },
  {
   "cell_type": "code",
   "execution_count": null,
   "metadata": {
    "pycharm": {
     "name": "#%%\n"
    }
   },
   "outputs": [],
   "source": [
    "_, distance_matrix_condensed = cluster_snapshots.compute_snapshot_distances(snapshots)\n",
    "linked = shc.linkage(distance_matrix_condensed, method=\"ward\")\n",
    "\n",
    "fig, ax = plt.subplots()\n",
    "dend = shc.dendrogram(linked)\n",
    "plt.show()"
   ]
  }
 ],
 "metadata": {
  "kernelspec": {
   "display_name": "Python 3",
   "language": "python",
   "name": "python3"
  },
  "language_info": {
   "codemirror_mode": {
    "name": "ipython",
    "version": 3
   },
   "file_extension": ".py",
   "mimetype": "text/x-python",
   "name": "python",
   "nbconvert_exporter": "python",
   "pygments_lexer": "ipython3",
   "version": "3.7.4"
  }
 },
 "nbformat": 4,
 "nbformat_minor": 1
}