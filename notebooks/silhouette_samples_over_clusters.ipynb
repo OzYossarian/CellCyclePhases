{
 "cells": [
  {
   "cell_type": "code",
   "execution_count": null,
   "outputs": [],
   "source": [
    "import pathlib\n",
    "import networkx\n",
    "import pandas as pd\n",
    "import matplotlib.pyplot as plt\n",
    "import seaborn as sb\n",
    "\n",
    "from utils.plotting import plot_events, plot_phases\n",
    "from utils import drawing\n",
    "from clustering.ClusterSets.HierarchicalClusterSets import HierarchicalClusterSets\n",
    "from clustering.ClusterSets.KMeansClusterSets import KMeansClusterSets\n",
    "from clustering.Snapshots import Snapshots\n",
    "from networks.TemporalNetwork import TemporalNetwork"
   ],
   "metadata": {
    "collapsed": false,
    "pycharm": {
     "name": "#%%\n"
    }
   }
  },
  {
   "cell_type": "markdown",
   "source": [
    "## Declare parameters to use throughout"
   ],
   "metadata": {
    "collapsed": false
   }
  },
  {
   "cell_type": "code",
   "execution_count": null,
   "outputs": [],
   "source": [
    "distance_metric = 'euclidean'\n",
    "cluster_method = 'ward'\n",
    "cluster_limit_type = 'maxclust'\n",
    "\n",
    "output_directory = None\n",
    "\n",
    "# Circadian parameters\n",
    "cluster_limit_range = [2 + (1 * i) for i in range(0, 10)]\n",
    "events = [(12 * i, '', 'dashed') for i in range(4 + 1)]\n",
    "phases = [\n",
    "    (0, 12, 'Day 1'),\n",
    "    (12, 24, 'Night 1'),\n",
    "    (24, 36, 'Day 2'),\n",
    "    (36, 48, 'Night 2')]\n",
    "time_ticks = [6*i for i in range(8 + 1)]\n",
    "\n",
    "# # Cell cycle parameters\n",
    "# cluster_limit_range = [2 + (1 * i) for i in range(0, 10)]\n",
    "# events = [\n",
    "#     (5, 'START', 'dashed'),\n",
    "#     (33, 'bud', 'solid'),\n",
    "#     (36, 'ori', 'solid'),\n",
    "#     (70, 'E3', 'dashed'),\n",
    "#     (84, 'spn', 'solid'),\n",
    "#     (100, 'mass', 'solid')]\n",
    "# phases = [\n",
    "#     (0, 35, 'G1'),\n",
    "#     (35, 70, 'S'),\n",
    "#     (70, 78, 'G2'),\n",
    "#     (78, 100, 'M')]\n",
    "# time_ticks = None\n"
   ],
   "metadata": {
    "collapsed": false,
    "pycharm": {
     "name": "#%%\n"
    }
   }
  },
  {
   "cell_type": "markdown",
   "source": [
    "## Load our temporal network\n",
    "\n",
    "Can be done in a number of ways; see constructors for `TemporalNetwork` for full list of options."
   ],
   "metadata": {
    "collapsed": false
   }
  },
  {
   "cell_type": "code",
   "execution_count": null,
   "outputs": [],
   "source": [
    "# Circadian rhythms network\n",
    "node_table_filepath = '../data/temporal_data/circadian/circadian_temporal_node_data_24_hour_genes_mean_full.csv'\n",
    "static_network_filepath = '../data/static_networks/circadian_full.edgelist'\n",
    "\n",
    "node_table = pd.read_csv(node_table_filepath, sep='\\t', index_col=0)\n",
    "static_network = networkx.read_edgelist(static_network_filepath, delimiter=', ')\n",
    "\n",
    "temporal_network = TemporalNetwork.from_static_network_and_node_table_dataframe(\n",
    "    static_network,\n",
    "    node_table,\n",
    "    combine_node_weights=lambda x, y: x*y,\n",
    "    threshold=0.0,\n",
    "    binary=False,\n",
    "    normalise=None)\n",
    "temporal_network_name = pathlib.Path(static_network_filepath).stem\n",
    "\n",
    "# # Cell cycle network\n",
    "# temporal_network_filepath = '../data/temporal_networks/cell_cycle/tedges_combined_weighted_binary_method_percentage_p_0.5_clean2.tedges'\n",
    "# temporal_network_separator = '\\\\s*\\\\t\\\\s*'\n",
    "#\n",
    "# edges = pd.read_csv(temporal_network_filepath, sep=temporal_network_separator, engine='python')\n",
    "# temporal_network = TemporalNetwork.from_edge_list_dataframe(edges)\n",
    "# temporal_network_name = pathlib.Path(temporal_network_filepath).stem"
   ],
   "metadata": {
    "collapsed": false,
    "pycharm": {
     "name": "#%%\n"
    }
   }
  },
  {
   "cell_type": "markdown",
   "source": [
    "## Compute cluster and silhouette data over a range of clusters"
   ],
   "metadata": {
    "collapsed": false,
    "pycharm": {
     "name": "#%% md\n"
    }
   }
  },
  {
   "cell_type": "code",
   "execution_count": null,
   "metadata": {
    "collapsed": true
   },
   "outputs": [],
   "source": [
    "snapshots = Snapshots.from_temporal_network(temporal_network, cluster_method, distance_metric)\n",
    "constructor = HierarchicalClusterSets if cluster_method != 'k_means' else KMeansClusterSets\n",
    "cluster_sets = constructor(snapshots, cluster_limit_type, cluster_limit_range)"
   ]
  },
  {
   "cell_type": "markdown",
   "source": [
    "## Plot silhouette scores across range of clusters"
   ],
   "metadata": {
    "collapsed": false
   }
  },
  {
   "cell_type": "code",
   "execution_count": null,
   "outputs": [],
   "source": [
    "# Plot\n",
    "gridspec_kw = {\"width_ratios\": [3, 1, 2]}\n",
    "fig, (ax1, ax2, ax3) = plt.subplots(1, 3, figsize=(9, 3), gridspec_kw=gridspec_kw, sharey='all')\n",
    "\n",
    "cluster_sets.plot_with_average_silhouettes((ax1, ax2, ax3))\n",
    "drawing.adjust_margin(ax=ax1, bottom=0.2 if phases else 0.05, top=0.05)\n",
    "plot_events(events, ax=ax1)\n",
    "plot_phases(phases, ax=ax1, y_pos=0.075, ymax=0.15)\n",
    "\n",
    "# Format\n",
    "ax1.set_xlabel(\"Time\")\n",
    "ax1.set_axisbelow(True)\n",
    "ax1.set_ylabel(drawing.display_name(cluster_sets.limit_type))\n",
    "if time_ticks:\n",
    "    ax1.set_xticks(time_ticks)\n",
    "\n",
    "ax2.set_xlabel(\"Average silhouette\")\n",
    "ax2.set_xlim((-0.1, 1.1))\n",
    "ax2.yaxis.set_tick_params(labelleft=True)\n",
    "\n",
    "ax3.set_xlabel(\"Actual # clusters\")\n",
    "ax3.yaxis.set_tick_params(labelleft=True)\n",
    "\n",
    "plt.subplots_adjust(wspace=0.4, top=0.8)\n",
    "fig.suptitle(f\"{temporal_network_name}, threshold=0.0\", weight='bold')\n",
    "\n",
    "# Save\n",
    "if output_directory is not None:\n",
    "    filename = f\"{output_directory}/phase_clusters_all_method_{cluster_method}_{temporal_network_name}\"\n",
    "    plt.savefig(f\"{filename}.png\", dpi=250, bbox_inches=\"tight\")\n",
    "    plt.savefig(f\"{filename}.pdf\", dpi=250, bbox_inches=\"tight\")\n"
   ],
   "metadata": {
    "collapsed": false,
    "pycharm": {
     "name": "#%%\n"
    }
   }
  },
  {
   "cell_type": "markdown",
   "source": [
    "## Plot silhouette samples across range of clusters"
   ],
   "metadata": {
    "collapsed": false
   }
  },
  {
   "cell_type": "code",
   "execution_count": null,
   "outputs": [],
   "source": [
    "columns = 4\n",
    "total_subplots = len(cluster_sets)\n",
    "rows = (total_subplots // columns) + (0 if total_subplots % columns == 0 else 1)\n",
    "fig, axs = plt.subplots(nrows=rows, ncols=columns, sharex='all', sharey='all', figsize=(10, 2 * rows))\n",
    "\n",
    "# Plot\n",
    "flat_axs = axs.flatten()\n",
    "cluster_sets.plot_silhouette_samples(axs=axs)\n",
    "\n",
    "# Format\n",
    "flat_axs[0].set_ylim((snapshots.times[0], snapshots.times[-1]))\n",
    "drawing.adjust_margin(ax=flat_axs[0], top=0.05, bottom=0.05)\n",
    "\n",
    "for i, cluster_set in enumerate(cluster_sets):\n",
    "    title = f'{drawing.display_name(cluster_set.limit_type)} = {cluster_set.limit}\\n({int(cluster_set.size)} clusters)'\n",
    "    flat_axs[i].set_title(title)\n",
    "    sb.despine(ax=flat_axs[i])\n",
    "\n",
    "xlabel, ylabel = 'Silhouette score', 'Ordered time points'\n",
    "drawing.label_subplot_grid_with_shared_axes(rows, columns, total_subplots, xlabel, ylabel, fig, axs)\n",
    "fig.suptitle(f\"Sample silhouette, method: '{cluster_method}' ({temporal_network_name})\", y=1.00, weight='bold')\n",
    "plt.subplots_adjust(hspace=0.5)\n",
    "\n",
    "# Save\n",
    "if output_directory is not None:\n",
    "    filename = f\"{output_directory}/phase_clusters_silhouette_sample_method_{cluster_method}_{temporal_network_name}\"\n",
    "    plt.savefig(f\"{filename}.png\", dpi=250, bbox_inches=\"tight\")\n",
    "    plt.savefig(f\"{filename}.pdf\", dpi=250, bbox_inches=\"tight\")"
   ],
   "metadata": {
    "collapsed": false,
    "pycharm": {
     "name": "#%%\n"
    }
   }
  }
 ],
 "metadata": {
  "kernelspec": {
   "display_name": "Python 3",
   "language": "python",
   "name": "python3"
  },
  "language_info": {
   "codemirror_mode": {
    "name": "ipython",
    "version": 2
   },
   "file_extension": ".py",
   "mimetype": "text/x-python",
   "name": "python",
   "nbconvert_exporter": "python",
   "pygments_lexer": "ipython2",
   "version": "2.7.6"
  }
 },
 "nbformat": 4,
 "nbformat_minor": 0
}