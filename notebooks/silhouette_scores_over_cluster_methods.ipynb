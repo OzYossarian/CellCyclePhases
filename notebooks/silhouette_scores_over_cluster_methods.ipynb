{
 "cells": [
  {
   "cell_type": "code",
   "execution_count": null,
   "metadata": {
    "collapsed": true
   },
   "outputs": [],
   "source": [
    "import pandas as pd\n",
    "import pathlib\n",
    "import networkx\n",
    "import matplotlib.pyplot as plt\n",
    "\n",
    "from drawing.silhouettes import calculate_and_plot_silhouettes\n",
    "from networks.TemporalNetwork import TemporalNetwork"
   ]
  },
  {
   "cell_type": "markdown",
   "source": [
    "## Declare parameters to use throughout"
   ],
   "metadata": {
    "collapsed": false
   }
  },
  {
   "cell_type": "code",
   "execution_count": null,
   "outputs": [],
   "source": [
    "distance_metric = 'jaccard'\n",
    "cluster_limit_type = 'maxclust'\n",
    "cluster_limit_range = [2 + (1 * i) for i in range(0, 10)]\n",
    "\n",
    "cluster_methods = ['k_means', 'ward', 'median', 'centroid', 'weighted', 'average', 'complete', 'single']\n",
    "\n",
    "events = [(12 * i, '', 'dashed') for i in range(4 + 1)]\n",
    "phases = [\n",
    "    (0, 12, 'Day 1'),\n",
    "    (12, 24, 'Night 1'),\n",
    "    (24, 36, 'Day 2'),\n",
    "    (36, 48, 'Night 2')\n",
    "]\n",
    "\n",
    "output_directory = None"
   ],
   "metadata": {
    "collapsed": false,
    "pycharm": {
     "name": "#%%\n"
    }
   }
  },
  {
   "cell_type": "markdown",
   "source": [
    "### Load/create temporal network"
   ],
   "metadata": {
    "collapsed": false
   }
  },
  {
   "cell_type": "code",
   "execution_count": null,
   "outputs": [],
   "source": [
    "node_table_filepath = '../data/temporal_data/circadian/circadian_temporal_node_data_mean_48.csv'\n",
    "static_network_filepath = '../data/static_networks/circadian_net.edgelist'\n",
    "binary = True\n",
    "normalise = True\n",
    "threshold = 0.5\n",
    "\n",
    "node_table = pd.read_csv(node_table_filepath, sep='\\t', index_col=0)\n",
    "static_network = networkx.read_edgelist(static_network_filepath)\n",
    "\n",
    "temporal_network = TemporalNetwork.from_static_network_and_node_table_dataframe(\n",
    "    static_network,\n",
    "    node_table,\n",
    "    combine_node_weights=lambda x, y: x*y,\n",
    "    threshold=threshold,\n",
    "    binary=binary,\n",
    "    normalise=normalise)"
   ],
   "metadata": {
    "collapsed": false,
    "pycharm": {
     "name": "#%%\n"
    }
   }
  },
  {
   "cell_type": "markdown",
   "source": [
    "### Plot silhouettes across different cluster methods"
   ],
   "metadata": {
    "collapsed": false
   }
  },
  {
   "cell_type": "code",
   "execution_count": null,
   "outputs": [],
   "source": [
    "gridspec_kw = {\"width_ratios\": [3, 1, 2]}\n",
    "figsize = (9, 4*len(cluster_methods))\n",
    "fig, axs = plt.subplots(len(cluster_methods), 3, figsize=figsize, gridspec_kw=gridspec_kw, sharey=True)\n",
    "\n",
    "i = 0\n",
    "for cluster_method in cluster_methods:\n",
    "    row = (axs[i, 0], axs[i, 1], axs[i, 2])\n",
    "    time_ticks = [6 * i for i in range(8 + 1)]\n",
    "    plotted = calculate_and_plot_silhouettes(\n",
    "        row, temporal_network, cluster_method, distance_metric, cluster_limit_type, cluster_limit_range, events,\n",
    "        phases, variable_name='cluster_method', variable=cluster_method, time_ticks=time_ticks)\n",
    "    if plotted:\n",
    "        i += 1\n",
    "\n",
    "for j in range(i, len(cluster_methods)):\n",
    "    for ax in (axs[j, 0], axs[j, 1], axs[j, 2]):\n",
    "        fig.delaxes(ax)\n",
    "\n",
    "title = f'data={pathlib.Path(node_table_filepath).stem}, binary={binary}, normalise={normalise}, threshold={threshold}'\n",
    "title += f'\\nmetric={distance_metric}, cluster_limit_type={cluster_limit_type} '\n",
    "fig.suptitle(title, y=0.91, weight='bold')\n",
    "\n",
    "# Save\n",
    "if output_directory is not None:\n",
    "    filename = f\"{output_directory}/silhouette_scores_over_cluster_methods\"\n",
    "    plt.savefig(f\"{filename}.png\", dpi=250, bbox_inches=\"tight\")\n"
   ],
   "metadata": {
    "collapsed": false,
    "pycharm": {
     "name": "#%%\n"
    }
   }
  }
 ],
 "metadata": {
  "kernelspec": {
   "display_name": "Python 3",
   "language": "python",
   "name": "python3"
  },
  "language_info": {
   "codemirror_mode": {
    "name": "ipython",
    "version": 2
   },
   "file_extension": ".py",
   "mimetype": "text/x-python",
   "name": "python",
   "nbconvert_exporter": "python",
   "pygments_lexer": "ipython2",
   "version": "2.7.6"
  }
 },
 "nbformat": 4,
 "nbformat_minor": 0
}