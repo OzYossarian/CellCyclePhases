{
 "cells": [
  {
   "cell_type": "code",
   "execution_count": null,
   "outputs": [],
   "source": [
    "import pandas as pd\n",
    "import pathlib\n",
    "import networkx\n",
    "import matplotlib.pyplot as plt\n",
    "\n",
    "from clustering.ClusterSets.HierarchicalClusterSets import HierarchicalClusterSets\n",
    "from clustering.ClusterSets.KMeansClusterSets import KMeansClusterSets\n",
    "from clustering.Snapshots import Snapshots\n",
    "from networks.TemporalNetwork import TemporalNetwork"
   ],
   "metadata": {
    "collapsed": false,
    "pycharm": {
     "name": "#%%\n"
    }
   }
  },
  {
   "cell_type": "markdown",
   "source": [
    "## Declare parameters to use throughout"
   ],
   "metadata": {
    "collapsed": false
   }
  },
  {
   "cell_type": "code",
   "execution_count": null,
   "outputs": [],
   "source": [
    "distance_metric = 'jaccard'\n",
    "cluster_method = 'ward'\n",
    "cluster_limit_type = 'maxclust'\n",
    "\n",
    "cluster_limit_range = [2 + (1 * i) for i in range(0, 10)]\n",
    "events = [(12 * i, '', 'dashed') for i in range(4 + 1)]\n",
    "phases = [\n",
    "    (0, 12, 'Day 1'),\n",
    "    (12, 24, 'Night 1'),\n",
    "    (24, 36, 'Day 2'),\n",
    "    (36, 48, 'Night 2')\n",
    "]\n",
    "time_ticks = [6 * i for i in range(8 + 1)]\n",
    "\n",
    "output_directory = None"
   ],
   "metadata": {
    "collapsed": false,
    "pycharm": {
     "name": "#%%\n"
    }
   }
  },
  {
   "cell_type": "markdown",
   "source": [
    "### Load/create temporal networks"
   ],
   "metadata": {
    "collapsed": false,
    "pycharm": {
     "name": "#%% md\n"
    }
   }
  },
  {
   "cell_type": "code",
   "execution_count": null,
   "metadata": {
    "collapsed": true
   },
   "outputs": [],
   "source": [
    "node_table_filepath = '../data/temporal_data/circadian/circadian_temporal_node_data_mean_48.csv'\n",
    "static_network_filepath = '../data/static_networks/circadian_net.edgelist'\n",
    "binary = True\n",
    "normalise = True\n",
    "thresholds = [round(0 + (0.1 * i), 1) for i in range(10)]\n",
    "\n",
    "node_table = pd.read_csv(node_table_filepath, sep='\\t', index_col=0)\n",
    "static_network = networkx.read_edgelist(static_network_filepath)\n",
    "\n",
    "temporal_networks = [\n",
    "    TemporalNetwork.from_static_network_and_node_table_dataframe(\n",
    "        static_network,\n",
    "        node_table,\n",
    "        combine_node_weights=lambda x, y: x*y,\n",
    "        threshold=threshold,\n",
    "        binary=binary,\n",
    "        normalise=normalise)\n",
    "    for threshold\n",
    "    in thresholds\n",
    "]"
   ]
  },
  {
   "cell_type": "markdown",
   "source": [
    "### Calculate cluster sets for each threshold"
   ],
   "metadata": {
    "collapsed": false
   }
  },
  {
   "cell_type": "code",
   "execution_count": null,
   "outputs": [],
   "source": [
    "valid_cluster_sets = []\n",
    "for threshold, temporal_network in zip(thresholds, temporal_networks):\n",
    "    try:\n",
    "        snapshots = Snapshots.from_temporal_network(temporal_network, cluster_method, distance_metric)\n",
    "        constructor = HierarchicalClusterSets if cluster_method != 'k_means' else KMeansClusterSets\n",
    "        cluster_sets = constructor(snapshots, cluster_limit_type, cluster_limit_range)\n",
    "        valid_cluster_sets.append((cluster_sets, threshold))\n",
    "    except Exception as e:\n",
    "        print(f'Error when threshold = {threshold}: {e}')"
   ],
   "metadata": {
    "collapsed": false,
    "pycharm": {
     "name": "#%%\n"
    }
   }
  },
  {
   "cell_type": "markdown",
   "source": [
    "### Plot across different thresholds"
   ],
   "metadata": {
    "collapsed": false,
    "pycharm": {
     "name": "#%% md\n"
    }
   }
  },
  {
   "cell_type": "code",
   "execution_count": null,
   "outputs": [],
   "source": [
    "gridspec_kw = {\"width_ratios\": [3, 1, 2]}\n",
    "figsize = (9, 4*len(valid_cluster_sets))\n",
    "fig, axs = plt.subplots(len(valid_cluster_sets), 3, figsize=figsize, gridspec_kw=gridspec_kw, sharey='row', sharex='col')\n",
    "\n",
    "for i, (cluster_sets, threshold) in enumerate(valid_cluster_sets):\n",
    "    row = (axs[i, 0], axs[i, 1], axs[i, 2])\n",
    "    cluster_sets.plot_and_format_with_average_silhouettes(row, events, phases, time_ticks)\n",
    "\n",
    "    plt.subplots_adjust(wspace=0.4, hspace=0.4)\n",
    "    fontdict = {'horizontalalignment': 'left'}\n",
    "    axs[i, 0].set_title(f'Clusters and silhouette scores (threshold = {threshold})', fontdict=fontdict, pad=12)\n",
    "\n",
    "title = f'data={pathlib.Path(node_table_filepath).stem}, binary={binary}, normalise={normalise}'\n",
    "title += f'\\nmetric={distance_metric}, cluster_method={cluster_method}, cluster_limit_type={cluster_limit_type}'\n",
    "fig.suptitle(title, y=0.91, weight='bold')\n",
    "\n",
    "# Save\n",
    "if output_directory is not None:\n",
    "    filename = f\"{output_directory}/silhouette_scores_over_thresholds\"\n",
    "    plt.savefig(f\"{filename}.png\", dpi=250, bbox_inches=\"tight\")\n"
   ],
   "metadata": {
    "collapsed": false,
    "pycharm": {
     "name": "#%%\n"
    }
   }
  }
 ],
 "metadata": {
  "kernelspec": {
   "display_name": "Python 3",
   "language": "python",
   "name": "python3"
  },
  "language_info": {
   "codemirror_mode": {
    "name": "ipython",
    "version": 2
   },
   "file_extension": ".py",
   "mimetype": "text/x-python",
   "name": "python",
   "nbconvert_exporter": "python",
   "pygments_lexer": "ipython2",
   "version": "2.7.6"
  }
 },
 "nbformat": 4,
 "nbformat_minor": 0
}