{
 "cells": [
  {
   "cell_type": "markdown",
   "metadata": {},
   "source": [
    "# Extraction of cell cycle phases by hierarchical clustering"
   ]
  },
  {
   "cell_type": "markdown",
   "metadata": {},
   "source": [
    "We try to extract the phases of the cell cycle from our temporal network. We do so by:\n",
    "1. Computing similarity/distance between every pair of adjacency snapshots\n",
    "2. Performing hierarchical clustering on these distances"
   ]
  },
  {
   "cell_type": "code",
   "execution_count": null,
   "metadata": {
    "pycharm": {
     "name": "#%%\n"
    }
   },
   "outputs": [],
   "source": [
    "import pathlib\n",
    "import scipy\n",
    "import drawing\n",
    "import numpy as np\n",
    "import matplotlib.pyplot as plt\n",
    "import seaborn as sb\n",
    "\n",
    "from clustering import clustering, silhouetting\n",
    "from clustering.ClusterData import ClusterData\n",
    "from clustering.HierarchicalClusterSets import HierarchicalClusterSet, HierarchicalClusterSets\n",
    "from clustering.KMeansClusterSets import KMeansClusterSet, KMeansClusterSets\n",
    "from temporal_networks.TemporalNetwork import TemporalNetwork\n",
    "from ODEs.ODEsSolutions import ODEsSolutions\n",
    "from ODEs import ODEs\n",
    "\n",
    "sb.set_context(\"paper\")"
   ]
  },
  {
   "cell_type": "markdown",
   "metadata": {
    "pycharm": {
     "name": "#%% md\n"
    }
   },
   "source": [
    "## Declare parameters to use throughout"
   ]
  },
  {
   "cell_type": "code",
   "execution_count": null,
   "metadata": {
    "pycharm": {
     "name": "#%%\n"
    }
   },
   "outputs": [],
   "source": [
    "distance_metric = 'euclidean'\n",
    "# Determines which distance function to use when calculating distances between a temporal network's adjacency \n",
    "# matrices/snapshots. Options are 'cityblock', 'cosine', 'euclidean', 'l1', 'l2', 'manhattan', 'braycurtis',\n",
    "# 'canberra', 'chebyshev', 'correlation', 'dice', 'hamming', 'jaccard', 'kulsinski', 'mahalanobis', 'minkowski',\n",
    "# 'rogerstanimoto', 'russellrao', 'seuclidean', 'sokalmichener', 'sokalsneath', 'sqeuclidean' and 'yule'.\n",
    "# See documentation for sklearn.metrics.pairwise_distances for more details.\n",
    "\n",
    "cluster_method = 'ward'\n",
    "# Determines which method to use when generating clusters. Options are 'k_means', 'ward', 'median', 'centroid',\n",
    "# 'weighted', 'average', 'complete' and 'single'.\n",
    "# The options 'ward', 'median', 'centroid', 'weighted', 'average', 'complete' and 'single' all use hierarchical\n",
    "# clustering. Specifically, they use the method scipy.cluster.hierarchy.linkage - for more details, see the \n",
    "# documentation for that method.\n",
    "# If instead cluster_method is 'k_means' then sklearn.cluster.KMeans.fit_predict is used.\n",
    "\n",
    "cluster_limit_type = 'maxclust'\n",
    "# Determines how to decide how many clusters to use. Options are 'maxclust_monocrit', 'monocrit', 'maxclust',\n",
    "# 'distance' and 'inconsistent'. If cluster_method is 'k_means' then cluster_limit_type MUST be 'maxclust'.\n",
    "# If cluster_method is NOT 'k_means', see documentation for scipy.cluster.hierarchy.fcluster for more details.\n",
    "\n",
    "cluster_limit_single = 5\n",
    "# When plotting over a SINGLE set of clusters, this corresponds to cluster_limit_type above. \n",
    "# e.g. if cluster_limit_type is 'distance' then clustering will stop when the distance between clusters is at least \n",
    "# cluster_limit_single.\n",
    "\n",
    "cluster_limit_range = range(2, 15)\n",
    "# When plotting over a RANGE of clusters, these correspond to cluster_limit_type above.\n",
    "# e.g. if cluster_limit_type is 'distance' then the ith set of clusters will be formed by stopping clustering when \n",
    "# the distance between clusters is at least cluster_limit_range[i].\n",
    "\n",
    "temporal_network_filepath = \"data/tedges_combined_weighted_binary_method_percentage_minmax_p_0.5_clean2.tedges\"\n",
    "# temporal_network_filepath = \"data/email-Eu-core-temporal-Dept1-days.txt\"\n",
    "# Path to the file representing the temporal network.\n",
    "\n",
    "temporal_network_separator = '\\s*\\t\\s*'\n",
    "# temporal_network_separator = ' '\n",
    "# String that separates entries in each row of the file.\n",
    "\n",
    "output_directory = None\n",
    "# Directory into which any images will be output. Set to None if no output is required."
   ]
  },
  {
   "cell_type": "markdown",
   "metadata": {
    "pycharm": {
     "name": "#%% md\n"
    }
   },
   "source": [
    "## Optional parameters\n",
    "Set to `None` if not applicable"
   ]
  },
  {
   "cell_type": "code",
   "execution_count": null,
   "metadata": {
    "pycharm": {
     "name": "#%%\n"
    }
   },
   "outputs": [],
   "source": [
    "events = None\n",
    "# events = [\n",
    "#     (5, 'START', 'dashed'),\n",
    "#     (33, 'bud', 'solid'),\n",
    "#     (36, 'ori', 'solid'),\n",
    "#     (70, 'E3', 'dashed'),\n",
    "#     (84, 'spn', 'solid'),\n",
    "#     (100, 'mass', 'solid')]\n",
    "# A list of triples (time, name, line_style). Some plots/diagrams will be annotated with these events. Use if there\n",
    "# are events known ahead of time to be important - e.g. in a cell cycle, the point at which a cell starts dividing. \n",
    "# For line_style options, see documentation for matplotlib.lines.Line2D.set_linestyle.\n",
    "\n",
    "phases = None\n",
    "# phases = [\n",
    "#     (0, 35, 'G1'),\n",
    "#     (35, 70, 'S'),\n",
    "#     (70, 78, 'G2'),\n",
    "#     (78, 100, 'M')]\n",
    "# A list of triples (start_time, end_time, name). Some plots/diagrams will be annotated with these phases. Use if \n",
    "# there are phases known ahead of time to be important - e.g. the time period in which a cell is in mitosis.\n",
    "\n",
    "ode_filepath = 'data/bychen04_xpp.ode'\n",
    "# ode_filepath = None\n",
    "# Filepath to a system of ODEs to be solved. Some variables (see below) from this system will be plotted alongside\n",
    "# plots of cluster data.\n",
    "\n",
    "variables = ['cln3', 'cln2', 'clb5', 'clb2','mass']\n",
    "# variables = None\n",
    "# Determines which variables from the system of ODEs above will be plotted. Case sensitive.\n",
    "\n",
    "# variables_labels_xvals = [10, 90, 95, 55, 30]\n",
    "variables_labels_xvals = None\n",
    "# Determines where to place a variable's label when plotting. That is, the line corresponding to variables[i] will\n",
    "# be labelled at point variables_labels_positions[i] along the x-axis."
   ]
  },
  {
   "cell_type": "markdown",
   "source": [
    "Convert iterable variables that have been set to `None` to empty lists"
   ],
   "metadata": {
    "collapsed": false,
    "pycharm": {
     "name": "#%% md\n"
    }
   }
  },
  {
   "cell_type": "code",
   "execution_count": null,
   "outputs": [],
   "source": [
    "if events is None:\n",
    "    events = []\n",
    "if phases is None:\n",
    "    phases = []\n",
    "if variables is None:\n",
    "    variables = []\n",
    "if variables_labels_xvals is None:\n",
    "    variables_labels_xvals = []"
   ],
   "metadata": {
    "collapsed": false,
    "pycharm": {
     "name": "#%%\n"
    }
   }
  },
  {
   "cell_type": "markdown",
   "metadata": {},
   "source": [
    "## Load our cell cycle temporal network"
   ]
  },
  {
   "cell_type": "code",
   "execution_count": null,
   "metadata": {
    "pycharm": {
     "name": "#%%\n"
    }
   },
   "outputs": [],
   "source": [
    "temporal_network = TemporalNetwork.from_file(temporal_network_filepath, temporal_network_separator)\n",
    "temporal_network_name = pathlib.Path(temporal_network_filepath).stem\n",
    "times = np.array(temporal_network.time_points(starting_at_zero=True))"
   ]
  },
  {
   "cell_type": "markdown",
   "metadata": {},
   "source": [
    "### Solve system of ODEs (if applicable)"
   ]
  },
  {
   "cell_type": "code",
   "execution_count": null,
   "metadata": {
    "pycharm": {
     "name": "#%%\n"
    }
   },
   "outputs": [],
   "source": [
    "if ode_filepath is not None:\n",
    "    true_times = np.array(temporal_network.time_points(starting_at_zero=False))\n",
    "    start_time = int(true_times[0])\n",
    "    end_time = 1 + int(true_times[-1])\n",
    "    odes_solutions = ODEsSolutions(ode_filepath, start_time, end_time)\n",
    "else:\n",
    "    odes_solutions = None"
   ]
  },
  {
   "cell_type": "markdown",
   "metadata": {
    "pycharm": {
     "name": "#%% md\n"
    }
   },
   "source": [
    "## Plot relative minima of mass"
   ]
  },
  {
   "cell_type": "code",
   "execution_count": null,
   "metadata": {
    "pycharm": {
     "name": "#%%\n"
    }
   },
   "outputs": [],
   "source": [
    "if ode_filepath is not None:\n",
    "    fig, ax = plt.subplots()\n",
    "    ax.plot(times, odes_solutions.series('mass'), 'o-')\n",
    "    mass_minima, mass_minima_times = odes_solutions.relative_optima('mass', 'minima')\n",
    "    ax.plot(times[mass_minima_times], mass_minima, 'ro')\n",
    "\n",
    "    plt.show()"
   ]
  },
  {
   "cell_type": "markdown",
   "metadata": {
    "pycharm": {
     "name": "#%% md\n"
    }
   },
   "source": [
    "## Compute single set of clusters"
   ]
  },
  {
   "cell_type": "code",
   "execution_count": null,
   "metadata": {
    "pycharm": {
     "name": "#%%\n"
    }
   },
   "outputs": [],
   "source": [
    "cluster_data = ClusterData.from_temporal_network(temporal_network, cluster_method, distance_metric)\n",
    "constructor = HierarchicalClusterSet if cluster_method != 'k_means' else KMeansClusterSet\n",
    "cluster_set = constructor(cluster_data, cluster_limit_type, cluster_limit_single)"
   ]
  },
  {
   "cell_type": "markdown",
   "source": [
    "## Complete plot for single set of clusters"
   ],
   "metadata": {
    "collapsed": false
   }
  },
  {
   "cell_type": "code",
   "execution_count": null,
   "outputs": [],
   "source": [
    "drawing.utils.configure_colour_map()\n",
    "fig, (ax1, ax2, ax3) = plt.subplots(3, figsize=(8, 6))\n",
    "\n",
    "# On 2nd axes, plot scatter graph of clusters.\n",
    "title = f\"Phases extracted by '{cluster_method}' clustering of snapshots with '{cluster_limit_type}' = {cluster_limit_single}\"\n",
    "cluster_set.plot(ax=ax2, title=title)\n",
    "\n",
    "# Overlay events\n",
    "sb.set_palette('Dark2', n_colors=8)\n",
    "ODEs.plot_events(events, ax=ax2, y_pos=0.005, text_x_offset=1)\n",
    "\n",
    "# On 1st axes, plot dendrogram (if not using k-means clustering)\n",
    "if cluster_method != 'k_means':\n",
    "    title = 'Dendrogram: hierarchical clustering of snapshots'\n",
    "    cluster_set.plot_dendrogram(ax=ax1, title=title)\n",
    "else:\n",
    "    fig.delaxes(ax1)\n",
    "\n",
    "# On 3rd axes, plot ODE solutions and phases (if applicable)\n",
    "if ode_filepath is not None:\n",
    "    ODEs.plot_concentrations(odes_solutions, variables, times, ax=ax3, norm=True, labels_xvals=variables_labels_xvals)\n",
    "    ODEs.plot_phases(phases, ax=ax3, y_pos=1.1)\n",
    "    # Tidy up formatting\n",
    "    ax2.get_shared_x_axes().join(ax2, ax3)\n",
    "    ax3.autoscale()\n",
    "else:\n",
    "    fig.delaxes(ax3)\n",
    "\n",
    "fig.tight_layout()\n",
    "\n",
    "# Save plot\n",
    "if output_directory is not None:\n",
    "    filename = f\"phases_from_clustering_{cluster_limit_type}_{cluster_limit_single}_method_{cluster_method}\"\n",
    "    filename = f\"{output_directory}{filename}_{temporal_network_name}\"\n",
    "    plt.savefig(f\"{filename}.png\", dpi=250, bbox_inches=\"tight\")\n",
    "    plt.savefig(f\"{filename}.pdf\", dpi=250, bbox_inches=\"tight\")\n",
    "\n",
    "plt.show()"
   ],
   "metadata": {
    "collapsed": false,
    "pycharm": {
     "name": "#%%\n"
    }
   }
  },
  {
   "cell_type": "markdown",
   "metadata": {
    "pycharm": {
     "name": "#%% md\n"
    }
   },
   "source": [
    "## Compute cluster and silhouette data over a range of clusters"
   ]
  },
  {
   "cell_type": "code",
   "execution_count": null,
   "metadata": {
    "pycharm": {
     "name": "#%%\n"
    }
   },
   "outputs": [],
   "source": [
    "constructor = HierarchicalClusterSets if cluster_method != 'k_means' else KMeansClusterSets\n",
    "cluster_sets = constructor(cluster_data, cluster_limit_type, cluster_limit_range)"
   ]
  },
  {
   "cell_type": "markdown",
   "metadata": {
    "pycharm": {
     "name": "#%% md\n"
    }
   },
   "source": [
    "## Plot silhouette scores across range of clusters"
   ]
  },
  {
   "cell_type": "code",
   "execution_count": null,
   "metadata": {
    "pycharm": {
     "name": "#%%\n"
    }
   },
   "outputs": [],
   "source": [
    "title = f\"Hier. clust. method: '{cluster_method}' ({temporal_network_name})\"\n",
    "fig, (ax1, ax2, ax3) = silhouetting.plot_average_silhouettes_and_clusters(cluster_sets, times, title)\n",
    "\n",
    "ODEs.plot_events(events, ax=ax1)\n",
    "ODEs.plot_phases(phases, ax=ax1, y_pos=ax1.get_ylim()[0], ymax=0.1)\n",
    "\n",
    "if output_directory is not None:\n",
    "    filename = f\"{output_directory}phase_clusters_all_method_{cluster_method}_{temporal_network_name}\"\n",
    "    plt.savefig(f\"{filename}.png\", dpi=250, bbox_inches=\"tight\")\n",
    "    plt.savefig(f\"{filename}.pdf\", dpi=250, bbox_inches=\"tight\")\n"
   ]
  },
  {
   "cell_type": "markdown",
   "metadata": {
    "pycharm": {
     "name": "#%% md\n"
    }
   },
   "source": [
    "Plot silhouette samples across range of clusters"
   ]
  },
  {
   "cell_type": "code",
   "execution_count": null,
   "metadata": {
    "pycharm": {
     "name": "#%%\n"
    }
   },
   "outputs": [],
   "source": [
    "fig, axs = silhouetting.plot_silhouettes_samples(cluster_sets, columns=4)\n",
    "fig.suptitle(f\"Sample silhouette, method: '{cluster_method}' ({temporal_network_name})\")\n",
    "plt.subplots_adjust(hspace=0.5)\n",
    "plt.show()\n",
    "\n",
    "if output_directory is not None:\n",
    "    filename = f\"{output_directory}phase_clusters_silhouette_sample_method_{cluster_method}_{temporal_network_name}\"\n",
    "    plt.savefig(f\"{filename}.png\", dpi=250, bbox_inches=\"tight\")\n",
    "    plt.savefig(f\"{filename}.pdf\", dpi=250, bbox_inches=\"tight\")"
   ]
  }
 ],
 "metadata": {
  "kernelspec": {
   "display_name": "Python 3",
   "language": "python",
   "name": "python3"
  },
  "language_info": {
   "codemirror_mode": {
    "name": "ipython",
    "version": 3
   },
   "file_extension": ".py",
   "mimetype": "text/x-python",
   "name": "python",
   "nbconvert_exporter": "python",
   "pygments_lexer": "ipython3",
   "version": "3.7.4"
  }
 },
 "nbformat": 4,
 "nbformat_minor": 1
}