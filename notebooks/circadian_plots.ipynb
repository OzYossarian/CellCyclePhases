{
 "cells": [
  {
   "cell_type": "code",
   "execution_count": null,
   "outputs": [],
   "source": [
    "import pandas as pd\n",
    "import pathlib\n",
    "import networkx\n",
    "import matplotlib.pyplot as plt\n",
    "import drawing\n",
    "\n",
    "from ODEs import ODEs\n",
    "from clustering.ClusterSets.HierarchicalClusterSets import HierarchicalClusterSets\n",
    "from clustering.ClusterSets.KMeansClusterSets import KMeansClusterSets\n",
    "from clustering.Snapshots import Snapshots\n",
    "from drawing.utils import display_name\n",
    "from networks.TemporalNetwork import TemporalNetwork"
   ],
   "metadata": {
    "collapsed": false,
    "pycharm": {
     "name": "#%%\n"
    }
   }
  },
  {
   "cell_type": "markdown",
   "source": [
    "## Declare parameters to use throughout"
   ],
   "metadata": {
    "collapsed": false
   }
  },
  {
   "cell_type": "code",
   "execution_count": null,
   "outputs": [],
   "source": [
    "distance_metric = 'euclidean'\n",
    "cluster_method = 'ward'\n",
    "cluster_limit_type = 'maxclust'\n",
    "cluster_limit_range = [2 + (1 * i) for i in range(0, 10)]\n",
    "\n",
    "events = [(12 * i, '', 'dashed') for i in range(4 + 1)]\n",
    "\n",
    "phases = [\n",
    "    (0, 12, 'Day 1'),\n",
    "    (12, 24, 'Night 1'),\n",
    "    (24, 36, 'Day 2'),\n",
    "    (36, 48, 'Night 2')\n",
    "]\n",
    "\n",
    "output_directory = None"
   ],
   "metadata": {
    "collapsed": false,
    "pycharm": {
     "name": "#%%\n"
    }
   }
  },
  {
   "cell_type": "markdown",
   "source": [
    "### Load/create temporal networks"
   ],
   "metadata": {
    "collapsed": false,
    "pycharm": {
     "name": "#%% md\n"
    }
   }
  },
  {
   "cell_type": "code",
   "execution_count": null,
   "metadata": {
    "collapsed": true
   },
   "outputs": [],
   "source": [
    "node_table_filepath = '../data/temporal_data/circadian_temporal_node_data_mean_normalised.csv'\n",
    "static_network_filepath = '../data/static_networks/circadian_net.edgelist'\n",
    "\n",
    "node_table = pd.read_csv(node_table_filepath, sep='\\t', index_col=0)\n",
    "static_network = networkx.read_edgelist(static_network_filepath)\n",
    "\n",
    "thresholds = [round(0 + (0.1 * i), 1) for i in range(10)]\n",
    "temporal_networks = [\n",
    "    TemporalNetwork.from_static_network_and_node_table_dataframe(\n",
    "        static_network,\n",
    "        node_table,\n",
    "        combine_node_weights=lambda x, y: x*y,\n",
    "        threshold=threshold,\n",
    "        binary=True,\n",
    "        normalise=False)\n",
    "    for threshold\n",
    "    in thresholds\n",
    "]"
   ]
  },
  {
   "cell_type": "markdown",
   "source": [
    "### Plot across different thresholds"
   ],
   "metadata": {
    "collapsed": false,
    "pycharm": {
     "name": "#%% md\n"
    }
   }
  },
  {
   "cell_type": "code",
   "execution_count": null,
   "outputs": [],
   "source": [
    "gridspec_kw = {\"width_ratios\": [3, 1, 2]}\n",
    "figsize = (9, 4*len(temporal_networks))\n",
    "fig, axs = plt.subplots(len(temporal_networks), 3, figsize=figsize, gridspec_kw=gridspec_kw, sharey=True)\n",
    "\n",
    "for i, temporal_network in enumerate(temporal_networks):\n",
    "\n",
    "    snapshots = Snapshots.from_temporal_network(temporal_network, cluster_method, distance_metric)\n",
    "    constructor = HierarchicalClusterSets if cluster_method != 'k_means' else KMeansClusterSets\n",
    "    cluster_sets = constructor(snapshots, cluster_limit_type, cluster_limit_range)\n",
    "\n",
    "    # Plot\n",
    "    (ax1, ax2, ax3) = (axs[i, 0], axs[i, 1], axs[i, 2])\n",
    "    cluster_sets.plot_with_average_silhouettes((ax1, ax2, ax3))\n",
    "    ymax = max(cluster_limit_range) + 1\n",
    "    ax1.set_ylim(0, ymax)\n",
    "    ODEs.plot_events(events, ax=ax1)\n",
    "    ODEs.plot_phases(phases, ax=ax1, y_pos=0.05, ymax=0.1)\n",
    "\n",
    "    # Format\n",
    "    ax1.set_xlabel(\"Time\")\n",
    "    ax1.set_xticks([6*i for i in range(9)])\n",
    "    ax1.set_axisbelow(True)\n",
    "    ax1.set_ylabel(display_name(cluster_sets.limit_type))\n",
    "\n",
    "    ax2.set_xlabel(\"Average silhouette\")\n",
    "    ax2.set_xlim((0, 1))\n",
    "    ax2.yaxis.set_tick_params(labelleft=True)\n",
    "\n",
    "    ax3.set_xlabel(\"Actual # clusters\")\n",
    "    ax3.yaxis.set_tick_params(labelleft=True)\n",
    "\n",
    "    plt.subplots_adjust(wspace=0.4, hspace=0.4)\n",
    "    ax1.set_title(f\"Hier. clust. method: '{cluster_method}' (threshold={thresholds[i]})\")\n",
    "\n",
    "# Save\n",
    "if output_directory is not None:\n",
    "    filename = f\"{output_directory}/cluster_range_using_{cluster_method}_method\"\n",
    "    plt.savefig(f\"{filename}.png\", dpi=250, bbox_inches=\"tight\")\n"
   ],
   "metadata": {
    "collapsed": false,
    "pycharm": {
     "name": "#%%\n"
    }
   }
  }
 ],
 "metadata": {
  "kernelspec": {
   "display_name": "Python 3",
   "language": "python",
   "name": "python3"
  },
  "language_info": {
   "codemirror_mode": {
    "name": "ipython",
    "version": 2
   },
   "file_extension": ".py",
   "mimetype": "text/x-python",
   "name": "python",
   "nbconvert_exporter": "python",
   "pygments_lexer": "ipython2",
   "version": "2.7.6"
  }
 },
 "nbformat": 4,
 "nbformat_minor": 0
}