{
 "cells": [
  {
   "cell_type": "code",
   "execution_count": null,
   "outputs": [],
   "source": [
    "import pathlib\n",
    "import seaborn as sb\n",
    "import networkx\n",
    "import pandas as pd\n",
    "import matplotlib.pyplot as plt\n",
    "import numpy as np\n",
    "from matplotlib import cm\n",
    "from utils.paths import slugify\n",
    "from utils.plotting import threshold_plot, plot_interval"
   ],
   "metadata": {
    "collapsed": false,
    "pycharm": {
     "name": "#%%\n"
    }
   }
  },
  {
   "cell_type": "markdown",
   "metadata": {
    "collapsed": true,
    "pycharm": {
     "name": "#%% md\n"
    }
   },
   "source": [
    "## Declare parameters to use throughout"
   ]
  },
  {
   "cell_type": "code",
   "execution_count": null,
   "outputs": [],
   "source": [
    "events = [(24 + 12 * i, '', 'dashed') for i in range(4)]\n",
    "phases = [\n",
    "    (18, 24, 'N'),\n",
    "    (24, 36, 'Day'),\n",
    "    (36, 48, 'Night'),\n",
    "    (48, 60, 'Day'),\n",
    "    (60, 66, 'N')]\n",
    "time_ticks = [18 + 6*i for i in range(8 + 1)]\n",
    "\n",
    "output_directory = '../data/output'"
   ],
   "metadata": {
    "collapsed": false,
    "pycharm": {
     "name": "#%%\n"
    }
   }
  },
  {
   "cell_type": "markdown",
   "source": [
    "### Load temporal data"
   ],
   "metadata": {
    "collapsed": false
   }
  },
  {
   "cell_type": "code",
   "execution_count": null,
   "outputs": [],
   "source": [
    "node_table_filepath = '../data/temporal_data/circadian/circadian_temporal_node_data_24_hour_genes_mean_normalised_full.csv'\n",
    "static_network_filepath = '../data/static_networks/circadian_full.edgelist'\n",
    "\n",
    "thresholds = [round(0 + (0.1 * i), 1) for i in range(6)]\n",
    "combine_node_weights = lambda x, y: x * y\n",
    "\n",
    "node_table = pd.read_csv(node_table_filepath, sep='\\t', index_col=0)\n",
    "static_network = networkx.read_edgelist(static_network_filepath, delimiter=', ')\n",
    "\n",
    "edge_table = pd.DataFrame()\n",
    "for i in node_table.columns.values:\n",
    "    for j in node_table.columns.values:\n",
    "        if i < j and static_network.has_edge(i, j):\n",
    "            edge_table[f'({i}, {j})'] = combine_node_weights(node_table[i], node_table[j])\n",
    "\n",
    "number_of_nodes = node_table.shape[1]\n",
    "number_of_edges = edge_table.shape[1]\n",
    "times = node_table.index.values"
   ],
   "metadata": {
    "collapsed": false,
    "pycharm": {
     "name": "#%%\n"
    }
   }
  },
  {
   "cell_type": "markdown",
   "source": [
    "### Normalise\n",
    "\n",
    "Comment out the code below to skip this step (e.g. if data is already normalised)"
   ],
   "metadata": {
    "collapsed": false,
    "pycharm": {
     "name": "#%% md\n"
    }
   }
  },
  {
   "cell_type": "code",
   "execution_count": null,
   "outputs": [],
   "source": [
    "normalise = None\n",
    "\n",
    "if normalise == 'local':\n",
    "    for node in node_table.columns.values:\n",
    "        node_min = node_table[node].min()\n",
    "        difference = node_table[node].max() - node_min\n",
    "        node_table[node] = (node_table[node] - node_min) / difference\n",
    "\n",
    "elif normalise == 'global':\n",
    "    nodes_min = node_table.values.min()  # min(node_table[node].min() for node in node_table.columns.values)\n",
    "    nodes_max = node_table.values.max()  # max(node_table[node].max() for node in node_table.columns.values)\n",
    "    difference = nodes_max - nodes_min\n",
    "    node_table = (node_table - nodes_min) / difference\n",
    "\n",
    "    edges_min = edge_table.values.min()\n",
    "    edges_max = edge_table.values.max()\n",
    "    difference = edges_max - edges_min\n",
    "    edge_table = (edge_table - edges_min) / difference"
   ],
   "metadata": {
    "collapsed": false,
    "pycharm": {
     "name": "#%%\n"
    }
   }
  },
  {
   "cell_type": "markdown",
   "source": [
    "### Plot node activities"
   ],
   "metadata": {
    "collapsed": false
   }
  },
  {
   "cell_type": "code",
   "execution_count": null,
   "outputs": [],
   "source": [
    "fig, ax = plt.subplots(figsize=(9, 6))\n",
    "cmap = cm.get_cmap('rainbow')\n",
    "\n",
    "colour_interval = 1.0 / number_of_nodes\n",
    "for j, node in enumerate(node_table.columns.values):\n",
    "    color = cmap(colour_interval * j)\n",
    "    ax.plot(times, node_table[node].values, color=color)\n",
    "\n",
    "ax.set_ylabel(\"Gene expression\")\n",
    "ax.set_xlabel(\"Circadian time\")\n",
    "ax.set_xticks(time_ticks)\n",
    "\n",
    "title = f'Node activities'\n",
    "fig.suptitle(title, weight='bold')\n",
    "\n",
    "if output_directory is not None:\n",
    "    plt.savefig(f'{output_directory}/{title}.png', dpi=250)"
   ],
   "metadata": {
    "collapsed": false,
    "pycharm": {
     "name": "#%%\n"
    }
   }
  },
  {
   "cell_type": "markdown",
   "source": [
    "### Plot edge activities"
   ],
   "metadata": {
    "collapsed": false,
    "pycharm": {
     "name": "#%% md\n"
    }
   }
  },
  {
   "cell_type": "code",
   "execution_count": null,
   "outputs": [],
   "source": [
    "fig, ax = plt.subplots(figsize=(9, 6))\n",
    "cmap = cm.get_cmap('rainbow')\n",
    "\n",
    "colour_interval = 1.0 / number_of_edges\n",
    "for j, edge in enumerate(edge_table.columns.values):\n",
    "    color = cmap(colour_interval * j)\n",
    "    ax.plot(times, edge_table[edge].values, color=color)\n",
    "\n",
    "ax.set_ylabel(\"Combined gene expression\")\n",
    "ax.set_xlabel(\"Circadian time\")\n",
    "ax.set_xticks(time_ticks)\n",
    "\n",
    "title = f'Edge activities'\n",
    "fig.suptitle(title)\n",
    "\n",
    "if output_directory is not None:\n",
    "    plt.savefig(f'{output_directory}/{title}.png', dpi=250)"
   ],
   "metadata": {
    "collapsed": false,
    "pycharm": {
     "name": "#%%\n"
    }
   }
  },
  {
   "cell_type": "markdown",
   "source": [
    "### For each threshold, plot edge activities"
   ],
   "metadata": {
    "collapsed": false,
    "pycharm": {
     "name": "#%% md\n"
    }
   }
  },
  {
   "cell_type": "code",
   "execution_count": null,
   "outputs": [],
   "source": [
    "figsize = (9, 6*len(thresholds))\n",
    "fig, axs = plt.subplots(len(thresholds), figsize=figsize)\n",
    "cmap = cm.get_cmap('rainbow')\n",
    "\n",
    "for ax, threshold in zip(axs, thresholds):\n",
    "    colour_interval = 1.0 / number_of_edges\n",
    "\n",
    "    for j, edge in enumerate(edge_table.columns.values):\n",
    "        y = edge_table[edge].values\n",
    "        color = cmap(colour_interval * j)\n",
    "\n",
    "        if np.all(y >= threshold):\n",
    "            ax.plot(times, y, color=color)\n",
    "        elif np.all(y < threshold):\n",
    "            ax.plot(times, y, color='k')\n",
    "        else:\n",
    "            threshold_plot(times, y, threshold, 'k', color, ax=ax)\n",
    "        ax.axhline(threshold, color='k', ls='--')\n",
    "\n",
    "    ax.set_ylim(0,1)\n",
    "    ax.set_ylabel(\"Combined gene expression\")\n",
    "    ax.set_xlabel(\"Circadian time\")\n",
    "    ax.set_xticks(time_ticks)\n",
    "    ax.set_title(f'Thresholded edges, threshold={threshold}', weight='bold')\n",
    "\n",
    "title = f'Edge activities - {slugify(pathlib.Path(node_table_filepath).stem)}'\n",
    "fig.suptitle(title, weight='bold', y=0.90)\n",
    "\n",
    "if output_directory is not None:\n",
    "    plt.savefig(f'{output_directory}/{title}.png', dpi=250)"
   ],
   "metadata": {
    "collapsed": false,
    "pycharm": {
     "name": "#%%\n"
    }
   }
  },
  {
   "cell_type": "markdown",
   "source": [
    "### Plot the binarized edges"
   ],
   "metadata": {
    "collapsed": false,
    "pycharm": {
     "name": "#%% md\n"
    }
   }
  },
  {
   "cell_type": "code",
   "execution_count": null,
   "outputs": [],
   "source": [
    "edges = sorted(list(edge_table.columns))\n",
    "\n",
    "for threshold in thresholds:\n",
    "    fig, ax = plt.subplots(1, figsize=(15, 20))\n",
    "    for j, edge in enumerate(edges):\n",
    "        binarized_edges = ((edge_table[edge] > 0) & (edge_table[edge] >= threshold)).astype(int).values\n",
    "        plot_interval(binarized_edges, times, y=number_of_edges-1-j, ax=ax, color='C0')\n",
    "\n",
    "        # For readability, highlight one in every two lines\n",
    "        if j % 2==0 :\n",
    "            plot_interval(np.ones_like(binarized_edges), times, y=j, ax=ax, color='lightgrey', zorder=-3)\n",
    "\n",
    "    ax.set_yticks([k + 0.25 for k in range(number_of_edges)])\n",
    "    ax.set_yticklabels(reversed(edges), fontsize=\"xx-small\")\n",
    "    ax.set_ylim(0, number_of_edges)\n",
    "\n",
    "    ax.set_xlim(min(times), max(times))\n",
    "    ax.set_xticks(times)\n",
    "    ax.set_xticklabels(times, rotation=45, ha='right', fontsize='x-small')\n",
    "    ax.grid(axis='x')\n",
    "\n",
    "    title = f'Binarised edges, threshold={threshold}'\n",
    "    ax.set_title(title, weight='bold')\n",
    "    sb.despine(left=True)\n",
    "\n",
    "    if output_directory is not None:\n",
    "        plt.savefig(f'{output_directory}/{title}.png', dpi=250)"
   ],
   "metadata": {
    "collapsed": false,
    "pycharm": {
     "name": "#%%\n"
    }
   }
  }
 ],
 "metadata": {
  "kernelspec": {
   "display_name": "Python 3",
   "language": "python",
   "name": "python3"
  },
  "language_info": {
   "codemirror_mode": {
    "name": "ipython",
    "version": 2
   },
   "file_extension": ".py",
   "mimetype": "text/x-python",
   "name": "python",
   "nbconvert_exporter": "python",
   "pygments_lexer": "ipython2",
   "version": "2.7.6"
  }
 },
 "nbformat": 4,
 "nbformat_minor": 0
}