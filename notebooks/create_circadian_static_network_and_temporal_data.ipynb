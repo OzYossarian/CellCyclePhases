{
 "cells": [
  {
   "cell_type": "code",
   "execution_count": null,
   "metadata": {},
   "outputs": [],
   "source": [
    "import pathlib\n",
    "import matplotlib.pyplot as plt\n",
    "import networkx as nx\n",
    "import pandas as pd\n",
    "\n",
    "from utils.graphs import create_graph_from_interactions, graph_size_info, draw_graph, highlight_subgraphs"
   ]
  },
  {
   "cell_type": "markdown",
   "source": [
    "### Create graph from Y2H interactions"
   ],
   "metadata": {
    "collapsed": false,
    "pycharm": {
     "name": "#%% md\n"
    }
   }
  },
  {
   "cell_type": "code",
   "execution_count": null,
   "metadata": {},
   "outputs": [],
   "source": [
    "G_Y2H = create_graph_from_interactions(\n",
    "    filename=\"../data/publications/journal.pgen.1003398.s008.xlsx\",\n",
    "    sheet=\"PPIs from Y2H screen Fig1B,C\",\n",
    "    source=\"Entrez gene ID A human\",\n",
    "    target=\"Entrez gene ID B human\")\n",
    "\n",
    "print(graph_size_info(G_Y2H))\n",
    "# fig = plt.figure(figsize=(13, 8))\n",
    "# draw_graph(G_Y2H)"
   ]
  },
  {
   "cell_type": "markdown",
   "metadata": {},
   "source": [
    "### Create graph from UniHI MAN interactions\n",
    "\n",
    "We use the Entrez IDs as the graph nodes because these are more reliable than gene names/symbols, but for displaying\n",
    "the graph we'd obviously prefer gene names/symbols. Therefore we create a 'symbolic' version of the graph later on\n",
    "by replacing entrez IDs with gene symbols."
   ]
  },
  {
   "cell_type": "code",
   "execution_count": null,
   "metadata": {},
   "outputs": [],
   "source": [
    "G_UniHI = create_graph_from_interactions(\n",
    "    filename=\"../data/publications/journal.pgen.1003398.s008.xlsx\",\n",
    "    sheet=\"Enrichment UniHI MAN Fig2\",\n",
    "    source=\"Entrez gene ID A human\",\n",
    "    target=\"Entrez gene ID B human\")\n",
    "\n",
    "print(graph_size_info(G_UniHI))\n",
    "# fig = plt.figure(figsize=(13, 8))\n",
    "# draw_graph(G_UniHI)"
   ]
  },
  {
   "cell_type": "markdown",
   "source": [
    "### Create graph from extended interactions"
   ],
   "metadata": {
    "collapsed": false,
    "pycharm": {
     "name": "#%% md\n"
    }
   }
  },
  {
   "cell_type": "code",
   "execution_count": null,
   "metadata": {},
   "outputs": [],
   "source": [
    "G_extension = create_graph_from_interactions(\n",
    "    filename=\"../data/publications/journal.pgen.1003398.s008.xlsx\",\n",
    "    sheet=\"Extension interactions Fig2\",\n",
    "    source=\"Entrez gene ID A\",\n",
    "    target=\"Entrez gene ID B\")\n",
    "\n",
    "print(graph_size_info(G_extension))\n",
    "fig = plt.figure(figsize=(13, 8))\n",
    "draw_graph(G_extension)\n"
   ]
  },
  {
   "cell_type": "markdown",
   "metadata": {},
   "source": [
    "### Combine the three networks together"
   ]
  },
  {
   "cell_type": "code",
   "execution_count": null,
   "metadata": {},
   "outputs": [],
   "source": [
    "G_Y2H_UniHI = nx.compose(G_Y2H, G_UniHI)\n",
    "G_full = nx.compose(G_Y2H_UniHI, G_extension)\n",
    "\n",
    "# For the remainder of this notebook, decide which of the three nested notebooks to focus on, and call that one G\n",
    "G = G_full\n",
    "graph_name = 'full'"
   ]
  },
  {
   "cell_type": "markdown",
   "source": [
    "### Combine the two lists of expected proteins"
   ],
   "metadata": {
    "collapsed": false,
    "pycharm": {
     "name": "#%% md\n"
    }
   }
  },
  {
   "cell_type": "code",
   "execution_count": null,
   "outputs": [],
   "source": [
    "proteins_core = pd.read_excel(\"../data/publications/journal.pgen.1003398.s008.xlsx\", sheet_name=\"46 circadian components Fig1\")\n",
    "proteins_core = proteins_core.iloc[:, 0:4]\n",
    "proteins_core.columns = ['entrez_human', 'entrez_mouse', 'symbol_human', 'symbol_mouse']\n",
    "\n",
    "proteins_extension = pd.read_excel(\"../data/publications/journal.pgen.1003398.s008.xlsx\", sheet_name=\"Extension proteins Fig2\")\n",
    "proteins_extension = proteins_extension.iloc[:, 1:5]\n",
    "proteins_extension.columns = ['entrez_human', 'entrez_mouse', 'symbol_human', 'symbol_mouse']\n",
    "\n",
    "proteins = pd.concat([proteins_core, proteins_extension], ignore_index=True)"
   ],
   "metadata": {
    "collapsed": false,
    "pycharm": {
     "name": "#%%\n"
    }
   }
  },
  {
   "cell_type": "markdown",
   "source": [
    "### For every protein that's actually involved in an interaction, add data from the 'proteins' table"
   ],
   "metadata": {
    "collapsed": false,
    "pycharm": {
     "name": "#%% md\n"
    }
   }
  },
  {
   "cell_type": "code",
   "execution_count": null,
   "outputs": [],
   "source": [
    "interacting_proteins = pd.DataFrame(G.nodes)\n",
    "interacting_proteins.columns = ['entrez_human']\n",
    "interacting_proteins = interacting_proteins.merge(proteins, how='left', left_on='entrez_human', right_on='entrez_human')"
   ],
   "metadata": {
    "collapsed": false,
    "pycharm": {
     "name": "#%%\n"
    }
   }
  },
  {
   "cell_type": "markdown",
   "source": [
    "### Use the entrez and symbol columns from this dataframe to create a symbolic version of the network"
   ],
   "metadata": {
    "collapsed": false,
    "pycharm": {
     "name": "#%% md\n"
    }
   }
  },
  {
   "cell_type": "code",
   "execution_count": null,
   "outputs": [],
   "source": [
    "entrez_to_symbol = dict(zip(interacting_proteins['entrez_human'], interacting_proteins['symbol_human']))\n",
    "symbolic_G_Y2H = nx.relabel_nodes(G_Y2H, entrez_to_symbol)\n",
    "symbolic_G_Y2H_UniHI = nx.relabel_nodes(G_Y2H_UniHI, entrez_to_symbol)\n",
    "symbolic_G_full = nx.relabel_nodes(G_full, entrez_to_symbol)\n",
    "symbolic_G = nx.relabel_nodes(G, entrez_to_symbol)\n",
    "\n",
    "# Save graph's edge list to a file\n",
    "nx.write_edgelist(symbolic_G, f\"../data/static_networks/circadian_{graph_name}.edgelist\", delimiter=', ')"
   ],
   "metadata": {
    "collapsed": false,
    "pycharm": {
     "name": "#%%\n"
    }
   }
  },
  {
   "cell_type": "markdown",
   "source": [
    "### Highlight the nodes that come from the Y2H, UniHI and extension interactions"
   ],
   "metadata": {
    "collapsed": false
   }
  },
  {
   "cell_type": "code",
   "execution_count": null,
   "outputs": [],
   "source": [
    "fig, ax = plt.subplots(figsize=(20, 15))\n",
    "symbolic_graphs = [symbolic_G_full, symbolic_G_Y2H_UniHI, symbolic_G_Y2H]\n",
    "symbolic_graph_colors = ['mediumseagreen', 'blue', 'red']\n",
    "highlight_subgraphs(symbolic_graphs, symbolic_graph_colors, ax=ax)\n",
    "plt.savefig(f'../data/output/graphs/circadian_full_partition.png', dpi=250)"
   ],
   "metadata": {
    "collapsed": false,
    "pycharm": {
     "name": "#%%\n"
    }
   }
  },
  {
   "cell_type": "markdown",
   "source": [
    "### Merge Affy IDs with Entrez IDs"
   ],
   "metadata": {
    "collapsed": false,
    "pycharm": {
     "name": "#%% md\n"
    }
   }
  },
  {
   "cell_type": "code",
   "execution_count": null,
   "outputs": [],
   "source": [
    "temporal_node_data = pd.read_csv('../data/temporal_data/circadian/GSE11923_series_matrix.txt', sep='\\t', header=63, index_col=0, skipfooter=1, engine='python')\n",
    "affy_to_entrez = pd.read_csv('../data/genes/DAVID_affy_to_entrez.txt', sep='\\t', index_col=0)\n",
    "\n",
    "temporal_node_data = temporal_node_data.merge(affy_to_entrez['entrez'], how='left', left_index=True, right_index=True)\n",
    "temporal_node_data['affy'] = temporal_node_data.index\n",
    "\n",
    "temporal_node_data = interacting_proteins.merge(temporal_node_data, how='inner', left_on='entrez_mouse', right_on='entrez')\n",
    "\n",
    "# Reorganise the DataFrame columns\n",
    "columns = list(temporal_node_data.columns.values)\n",
    "columns = [columns[-1]] + [columns[1], columns[0]] + [columns[3], columns[2]] + columns[4:-2]\n",
    "temporal_node_data = temporal_node_data[columns]\n",
    "columns = columns[0:5] + [i+18 for i, _ in enumerate(columns[5:])]\n",
    "temporal_node_data.columns = columns\n",
    "temporal_node_data.sort_values('entrez_mouse', inplace=True)"
   ],
   "metadata": {
    "collapsed": false,
    "pycharm": {
     "name": "#%%\n"
    }
   }
  },
  {
   "cell_type": "markdown",
   "source": [
    "### Restrict to genes of a certain cycle length\n",
    "\n",
    "Comment out the code below to skip this step"
   ],
   "metadata": {
    "collapsed": false,
    "pycharm": {
     "name": "#%% md\n"
    }
   }
  },
  {
   "cell_type": "code",
   "execution_count": null,
   "outputs": [],
   "source": [
    "cyclic_proteins_filename = '../data/genes/24_hour_genes.XLS'\n",
    "cyclic_proteins = pd.read_excel(cyclic_proteins_filename, sheet_name='Sheet1')\n",
    "temporal_node_data = temporal_node_data.merge(cyclic_proteins, how='inner', left_on='affy', right_on='Probe Set ID')\n",
    "\n",
    "cycle = f'{pathlib.Path(cyclic_proteins_filename).stem}_'\n",
    "# cycle = ''"
   ],
   "metadata": {
    "collapsed": false,
    "pycharm": {
     "name": "#%%\n"
    }
   }
  },
  {
   "cell_type": "markdown",
   "source": [
    "### Plot subgraph induced by cyclic genes\n",
    "\n",
    "Comment out the code below to skip this step"
   ],
   "metadata": {
    "collapsed": false,
    "pycharm": {
     "name": "#%% md\n"
    }
   }
  },
  {
   "cell_type": "code",
   "execution_count": null,
   "outputs": [],
   "source": [
    "cyclic_genes_subgraph = symbolic_G_full.subgraph(temporal_node_data['symbol_human'].values)\n",
    "fig, ax = plt.subplots(figsize=(20, 15))\n",
    "highlight_subgraphs(symbolic_graphs + [cyclic_genes_subgraph], symbolic_graph_colors + ['yellow'], ax=ax)\n",
    "plt.savefig(f'../data/output/graphs/circadian_full_partition_{cycle}.png', dpi=300)\n",
    "\n",
    "# Print size info for each of the graphs and its restriction to cyclic genes\n",
    "for graph in symbolic_graphs:\n",
    "    cyclic_genes_subgraph = graph.subgraph(temporal_node_data['symbol_human'].values)\n",
    "    print(graph_size_info(graph))\n",
    "    print(graph_size_info(cyclic_genes_subgraph))\n"
   ],
   "metadata": {
    "collapsed": false,
    "pycharm": {
     "name": "#%%\n"
    }
   }
  },
  {
   "cell_type": "markdown",
   "source": [
    "### Create a table of temporal node data using the mean\n",
    "\n",
    "IMPORTANT: The Affy IDs don't match uniquely to Entrez IDs, so in lots of cases a single Entrez ID can correspond to\n",
    "several sets of temporal data."
   ],
   "metadata": {
    "collapsed": false
   }
  },
  {
   "cell_type": "code",
   "execution_count": null,
   "outputs": [],
   "source": [
    "temporal_node_data_mean = pd.DataFrame()\n",
    "temporal_node_data_mean_normalised = pd.DataFrame()\n",
    "max_time = 48\n",
    "\n",
    "# ToDo: use 'groupby' here instead!\n",
    "for entrez_human in G.nodes:\n",
    "    affy_proteins = temporal_node_data.loc[temporal_node_data['entrez_human'] == entrez_human]\n",
    "    if affy_proteins.empty:\n",
    "        print(f'Human entrez ID {entrez_human} either has no temporal data or no affy ID')\n",
    "    else:\n",
    "        symbol = affy_proteins['symbol_human'].values[0]\n",
    "        series = affy_proteins[affy_proteins.columns[5:5 + max_time]].T\n",
    "        mean = series.apply(lambda row: row.mean(), axis=1)\n",
    "        temporal_node_data_mean[symbol] = mean\n",
    "        difference = mean.max() - mean.min()\n",
    "        temporal_node_data_mean_normalised[symbol] = (mean - mean.min()) / difference\n",
    "\n",
    "temporal_node_data_mean.to_csv(f'../data/temporal_data/circadian/circadian_temporal_node_data_{cycle}mean_{graph_name}.csv', sep='\\t')\n",
    "temporal_node_data_mean_normalised.to_csv(f'../data/temporal_data/circadian/circadian_temporal_node_data_{cycle}mean_normalised_{graph_name}.csv', sep='\\t')"
   ],
   "metadata": {
    "collapsed": false,
    "pycharm": {
     "name": "#%%\n"
    }
   }
  },
  {
   "cell_type": "markdown",
   "source": [
    "### Graph all of the temporal data for each Entrez ID."
   ],
   "metadata": {
    "collapsed": false
   }
  },
  {
   "cell_type": "code",
   "execution_count": null,
   "outputs": [],
   "source": [
    "# max_time = 48\n",
    "# time_ticks = [18 + 6*i for i in range(8 + 1)]\n",
    "#\n",
    "# # Plot temporal data for each Affymetrix ID for each protein, as well as mean and normalised versions of this plot.\n",
    "# for entrez_human in G.nodes:\n",
    "#     affy_proteins = temporal_node_data.loc[temporal_node_data['entrez_human'] == entrez_human]\n",
    "#     if affy_proteins.empty:\n",
    "#         print(f'No data for {entrez_human}')\n",
    "#     else:\n",
    "#         series = affy_proteins[affy_proteins.columns[5:5 + max_time]].T\n",
    "#         mean = series.apply(lambda row: row.mean(), axis=1)\n",
    "#         normalised = series.copy()\n",
    "#         for column in list(normalised.columns):\n",
    "#             minimum = normalised[column].min()\n",
    "#             difference = normalised[column].max() - minimum\n",
    "#             normalised[column] = (normalised[column] - minimum) / difference\n",
    "#\n",
    "#         symbol = affy_proteins[\"symbol_mouse\"].values[0]\n",
    "#         affy_ids = list(affy_proteins['affy'].values)\n",
    "#         fig, (ax1, ax2, ax3) = plt.subplots(3, figsize=(8, 3*3), sharex='col')\n",
    "#\n",
    "#         series.plot(ax=ax1)\n",
    "#         ax1.legend(affy_ids)\n",
    "#         ax1.set_title(f'{symbol} Actual')\n",
    "#\n",
    "#         mean.plot(ax=ax2, legend=False)\n",
    "#         ax2.set_title(f'{symbol} Mean')\n",
    "#         ax2.set_ylabel('Gene expression')\n",
    "#\n",
    "#         normalised.plot(ax=ax3)\n",
    "#         ax3.legend(affy_ids)\n",
    "#         ax3.set_title(f'{symbol} Normalised')\n",
    "#         ax3.set_xlabel('Circadian time')\n",
    "#         ax3.set_xticks(time_ticks)\n",
    "#\n",
    "#\n",
    "#         fig.tight_layout()\n",
    "#         fig.savefig(f'../data/output/individual_gene_series/all_genes/{symbol}.png')"
   ],
   "metadata": {
    "collapsed": false,
    "pycharm": {
     "name": "#%%\n"
    }
   }
  }
 ],
 "metadata": {
  "kernelspec": {
   "display_name": "Python 3",
   "language": "python",
   "name": "python3"
  },
  "language_info": {
   "codemirror_mode": {
    "name": "ipython",
    "version": 3
   },
   "file_extension": ".py",
   "mimetype": "text/x-python",
   "name": "python",
   "nbconvert_exporter": "python",
   "pygments_lexer": "ipython3",
   "version": "3.6.9"
  }
 },
 "nbformat": 4,
 "nbformat_minor": 2
}