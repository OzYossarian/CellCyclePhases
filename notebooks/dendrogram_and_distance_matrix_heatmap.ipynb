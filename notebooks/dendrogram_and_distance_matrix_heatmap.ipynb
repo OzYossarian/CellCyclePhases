{
 "cells": [
  {
   "cell_type": "code",
   "execution_count": null,
   "outputs": [],
   "source": [
    "import pathlib\n",
    "import networkx\n",
    "import matplotlib.pyplot as plt\n",
    "import seaborn as sb\n",
    "import pandas as pd\n",
    "import matplotlib.cm as cm\n",
    "\n",
    "from utils import drawing, paths\n",
    "from temporal.TemporalData import TemporalData\n",
    "from clustering.Snapshots import Snapshots\n",
    "from clustering.ClusterSet.HierarchicalClusterSet import HierarchicalClusterSet\n",
    "from clustering.ClusterSet.KMeansClusterSet import KMeansClusterSet\n",
    "from networks.TemporalNetwork import TemporalNetwork\n",
    "from utils.plotting import plot_events, plot_phases"
   ],
   "metadata": {
    "collapsed": false,
    "pycharm": {
     "name": "#%%\n"
    }
   }
  },
  {
   "cell_type": "markdown",
   "source": [
    "## Declare parameters to use throughout"
   ],
   "metadata": {
    "collapsed": false
   }
  },
  {
   "cell_type": "code",
   "execution_count": null,
   "outputs": [],
   "source": [
    "distance_metric = 'euclidean'\n",
    "cluster_method = 'ward'\n",
    "cluster_limit_type = 'maxclust'\n",
    "\n",
    "output_directory = '../data/output'\n",
    "\n",
    "# Circadian rhythms parameters\n",
    "cluster_limit = 6\n",
    "events = [(24 + 12 * i, '', 'dashed') for i in range(4)]\n",
    "phases = [\n",
    "    (18, 24, 'N'),\n",
    "    (24, 36, 'Day'),\n",
    "    (36, 48, 'Night'),\n",
    "    (48, 60, 'Day'),\n",
    "    (60, 66, 'N')]\n",
    "time_ticks = [18 + 6*i for i in range(8 + 1)]\n",
    "variables_to_plot = []\n",
    "\n",
    "# # Cell cycle parameters\n",
    "# cluster_limit = 5\n",
    "# events = [\n",
    "#     (5, 'START', 'dashed'),\n",
    "#     (33, 'bud', 'solid'),\n",
    "#     (36, 'ori', 'solid'),\n",
    "#     (70, 'E3', 'dashed'),\n",
    "#     (84, 'spn', 'solid'),\n",
    "#     (100, 'mass', 'solid')]\n",
    "# phases = [\n",
    "#     (0, 35, 'G1'),\n",
    "#     (35, 70, 'S'),\n",
    "#     (70, 78, 'G2'),\n",
    "#     (78, 100, 'M')]\n",
    "# variables_to_plot = ['cln3', 'cln2', 'clb5', 'clb2','mass']\n",
    "# time_ticks = None"
   ],
   "metadata": {
    "collapsed": false,
    "pycharm": {
     "name": "#%%\n"
    }
   }
  },
  {
   "cell_type": "markdown",
   "source": [
    "## Load temporal network\n",
    "\n",
    "Can be done in a number of ways; see constructors for TemporalNetwork for full list of options."
   ],
   "metadata": {
    "collapsed": false
   }
  },
  {
   "cell_type": "code",
   "execution_count": null,
   "outputs": [],
   "source": [
    "# Circadian rhythms network\n",
    "node_table_filepath = '../data/temporal_data/circadian/circadian_temporal_node_data_24_hour_genes_mean_normalised_full.csv'\n",
    "static_network_filepath = '../data/static_networks/circadian_full.edgelist'\n",
    "\n",
    "node_table = pd.read_csv(node_table_filepath, sep='\\t', index_col=0)\n",
    "static_network = networkx.read_edgelist(static_network_filepath, delimiter=', ')\n",
    "\n",
    "variables_to_plot = node_table.columns.values.tolist()\n",
    "threshold = 0.0\n",
    "binary = False\n",
    "normalise = None\n",
    "\n",
    "temporal_network = TemporalNetwork.from_static_network_and_node_table_dataframe(\n",
    "    static_network,\n",
    "    node_table,\n",
    "    combine_node_weights=lambda x, y: x*y,\n",
    "    threshold=threshold,\n",
    "    binary=binary,\n",
    "    normalise=normalise,\n",
    "    static_edges_default=None)\n",
    "temporal_network_name = pathlib.Path(node_table_filepath).stem\n",
    "\n",
    "# # Cell cycle network\n",
    "# temporal_network_filepath = '../data/temporal_networks/cell_cycle/tedges_combined_weighted_binary_method_percentage_p_0.5_clean2.tedges'\n",
    "# temporal_network_separator = '\\\\s*\\\\t\\\\s*'\n",
    "#\n",
    "# edges = pd.read_csv(temporal_network_filepath, sep=temporal_network_separator, engine='python')\n",
    "# temporal_network = TemporalNetwork.from_edge_list_dataframe(edges)\n",
    "# temporal_network_name = pathlib.Path(temporal_network_filepath).stem"
   ],
   "metadata": {
    "collapsed": false,
    "pycharm": {
     "name": "#%%\n"
    }
   }
  },
  {
   "cell_type": "markdown",
   "source": [
    "## Load temporal data\n",
    "\n",
    "e.g. via solving system of ODEs, or by loading directly; see TemporalData constructors."
   ],
   "metadata": {
    "collapsed": false
   }
  },
  {
   "cell_type": "code",
   "execution_count": null,
   "outputs": [],
   "source": [
    "# Circadian temporal data\n",
    "node_table.sort_index(inplace=True)\n",
    "series_names = node_table.columns.values.tolist()\n",
    "all_series = node_table.to_numpy(copy=True)\n",
    "true_times = node_table.index.values\n",
    "start_time = true_times[0]\n",
    "times = true_times if start_time == 0 else true_times - start_time\n",
    "temporal_data = TemporalData(all_series, series_names, times, true_times)\n",
    "\n",
    "# # Cell cycle temporal data\n",
    "# ode_filepath = '../data/ODEs/bychen04_xpp.ode'\n",
    "# xpp_alias = 'xppmac64'\n",
    "# start_time = int(temporal_network.true_times[0])\n",
    "# end_time = 1 + int(temporal_network.true_times[-1])\n",
    "# temporal_data = TemporalData.from_ODEs(ode_filepath, start_time, end_time, xpp_alias)"
   ],
   "metadata": {
    "collapsed": false,
    "pycharm": {
     "name": "#%%\n"
    }
   }
  },
  {
   "cell_type": "markdown",
   "source": [
    "## Compute single set of clusters"
   ],
   "metadata": {
    "collapsed": false
   }
  },
  {
   "cell_type": "code",
   "execution_count": null,
   "outputs": [],
   "source": [
    "snapshots = Snapshots.from_temporal_network(temporal_network, cluster_method, distance_metric)\n",
    "constructor = HierarchicalClusterSet if cluster_method != 'k_means' else KMeansClusterSet\n",
    "cluster_set = constructor(snapshots, cluster_limit_type, cluster_limit)"
   ],
   "metadata": {
    "collapsed": false,
    "pycharm": {
     "name": "#%%\n"
    }
   }
  },
  {
   "cell_type": "markdown",
   "source": [
    "## Plot dendrogram, scatter graph and ODE variables"
   ],
   "metadata": {
    "collapsed": false
   }
  },
  {
   "cell_type": "code",
   "execution_count": null,
   "outputs": [],
   "source": [
    "drawing.configure_sch_color_map(cm.get_cmap('tab10'))\n",
    "sb.set_palette('Dark2', n_colors=8)\n",
    "norm = True\n",
    "fig = plt.figure(figsize=(8, 6))\n",
    "\n",
    "# Plot\n",
    "if cluster_method != 'k_means':\n",
    "    ax1 = fig.add_subplot(3, 1, 1)\n",
    "    cluster_set.plot_dendrogram(ax=ax1)\n",
    "\n",
    "ax2 = fig.add_subplot(3, 1, 2)\n",
    "cluster_set.plot(ax=ax2)\n",
    "plot_events(events, ax=ax2, text_y_pos=0.005, text_x_offset=1)\n",
    "plot_phases(phases, ax=ax2, y_pos=0.15, ymax=0.3)\n",
    "\n",
    "ax3 = fig.add_subplot(3, 1, 3)\n",
    "temporal_data.plot_series(variables_to_plot, ax=ax3, norm=norm, add_labels=False)\n",
    "\n",
    "# Format\n",
    "if cluster_method != 'k_means':\n",
    "    ax1.set_ylabel('Distance threshold')\n",
    "    ax1.set_xlabel(\"Times\")\n",
    "    ax1.set_title('Dendrogram: hierarchical clustering of snapshots', weight=\"bold\")\n",
    "\n",
    "title = f\"Phases extracted by '{cluster_method}' clustering with '{cluster_limit_type}' = {cluster_limit}\"\n",
    "ax2.set_title(title, weight=\"bold\")\n",
    "ax2.set_yticks([])\n",
    "sb.despine(ax=ax2, left=True)\n",
    "ax2.grid(axis='x')\n",
    "if time_ticks:\n",
    "    ax2.set_xticks(time_ticks)\n",
    "\n",
    "ax3.set_xlabel('Time')\n",
    "ax3.set_ylabel('Concentration (normed)' if norm else 'Concentration')\n",
    "if time_ticks:\n",
    "    ax3.set_xticks(time_ticks)\n",
    "sb.despine(ax=ax3)\n",
    "ax3.autoscale()\n",
    "\n",
    "ax2.get_shared_x_axes().join(ax2, ax3)\n",
    "fig.tight_layout()\n",
    "\n",
    "# Save\n",
    "if output_directory is not None:\n",
    "    filename = f\"{output_directory}/phases_from_clustering_{paths.slugify(temporal_network_name)}\"\n",
    "    plt.savefig(f\"{filename}.png\", dpi=250, bbox_inches=\"tight\")"
   ],
   "metadata": {
    "collapsed": false,
    "pycharm": {
     "name": "#%%\n"
    }
   }
  },
  {
   "cell_type": "markdown",
   "source": [
    "## Plot distance matrix heatmap"
   ],
   "metadata": {
    "collapsed": false
   }
  },
  {
   "cell_type": "code",
   "execution_count": null,
   "outputs": [],
   "source": [
    "fig, ax = plt.subplots(figsize=(9, 9))\n",
    "snapshots.distance_matrix.plot_heatmap(ax=ax, triangular=False)\n",
    "title = f'Snapshots distance matrix heatmap'\n",
    "title += f'\\n{temporal_network_name}'\n",
    "title += f'\\nThreshold={threshold}, Binary={binary}'\n",
    "ax.set_title(title, weight='bold')\n",
    "\n",
    "# Save\n",
    "if output_directory is not None:\n",
    "    filename = f\"{output_directory}/distance_matrix_heatmap_{paths.slugify(temporal_network_name)}\"\n",
    "    plt.savefig(f\"{filename}.png\", dpi=250, bbox_inches=\"tight\")"
   ],
   "metadata": {
    "collapsed": false,
    "pycharm": {
     "name": "#%%\n"
    }
   }
  }
 ],
 "metadata": {
  "kernelspec": {
   "display_name": "Python 3",
   "language": "python",
   "name": "python3"
  },
  "language_info": {
   "codemirror_mode": {
    "name": "ipython",
    "version": 2
   },
   "file_extension": ".py",
   "mimetype": "text/x-python",
   "name": "python",
   "nbconvert_exporter": "python",
   "pygments_lexer": "ipython2",
   "version": "2.7.6"
  }
 },
 "nbformat": 4,
 "nbformat_minor": 0
}