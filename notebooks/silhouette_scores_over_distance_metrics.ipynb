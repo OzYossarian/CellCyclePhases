{
 "cells": [
  {
   "cell_type": "code",
   "execution_count": null,
   "metadata": {
    "collapsed": true
   },
   "outputs": [],
   "source": [
    "import pandas as pd\n",
    "import pathlib\n",
    "import networkx\n",
    "import matplotlib.pyplot as plt\n",
    "\n",
    "from clustering.ClusterSets.HierarchicalClusterSets import HierarchicalClusterSets\n",
    "from clustering.ClusterSets.KMeansClusterSets import KMeansClusterSets\n",
    "from clustering.Snapshots import Snapshots\n",
    "from utils import paths\n",
    "from networks.TemporalNetwork import TemporalNetwork"
   ]
  },
  {
   "cell_type": "markdown",
   "source": [
    "## Declare parameters to use throughout"
   ],
   "metadata": {
    "collapsed": false
   }
  },
  {
   "cell_type": "code",
   "execution_count": null,
   "outputs": [],
   "source": [
    "cluster_method = 'ward'\n",
    "cluster_limit_type = 'maxclust'\n",
    "\n",
    "# distance_metrics = [\n",
    "#     'cityblock', 'cosine', 'euclidean', 'l1', 'l2', 'manhattan', 'braycurtis', 'canberra', 'chebyshev', 'correlation',\n",
    "#     'dice', 'hamming', 'jaccard', 'kulsinski', 'mahalanobis', 'minkowski', 'rogerstanimoto', 'russellrao',\n",
    "#     'seuclidean', 'sokalmichener', 'sokalsneath', 'sqeuclidean', 'yule',\n",
    "# ]\n",
    "\n",
    "distance_metrics = ['cosine', 'euclidean', 'dice']\n",
    "\n",
    "output_directory = '../data/output'\n",
    "\n",
    "# Circadian parameters\n",
    "cluster_limit_range = [2 + (1 * i) for i in range(0, 10)]\n",
    "events = [(24 + 12 * i, '', 'dashed') for i in range(4)]\n",
    "phases = [\n",
    "    (18, 24, 'N'),\n",
    "    (24, 36, 'Day'),\n",
    "    (36, 48, 'Night'),\n",
    "    (48, 60, 'Day'),\n",
    "    (60, 66, 'N')]\n",
    "time_ticks = [18 + 6*i for i in range(8 + 1)]\n",
    "\n",
    "\n",
    "# # Cell cycle parameters\n",
    "# cluster_limit_range = [2 + (1 * i) for i in range(0, 10)]\n",
    "# events = [\n",
    "#     (5, 'START', 'dashed'),\n",
    "#     (33, 'bud', 'solid'),\n",
    "#     (36, 'ori', 'solid'),\n",
    "#     (70, 'E3', 'dashed'),\n",
    "#     (84, 'spn', 'solid'),\n",
    "#     (100, 'mass', 'solid')]\n",
    "# phases = [\n",
    "#     (0, 35, 'G1'),\n",
    "#     (35, 70, 'S'),\n",
    "#     (70, 78, 'G2'),\n",
    "#     (78, 100, 'M')]\n",
    "# time_ticks = None\n"
   ],
   "metadata": {
    "collapsed": false,
    "pycharm": {
     "name": "#%%\n"
    }
   }
  },
  {
   "cell_type": "markdown",
   "source": [
    "### Load/create temporal network"
   ],
   "metadata": {
    "collapsed": false
   }
  },
  {
   "cell_type": "code",
   "execution_count": null,
   "outputs": [],
   "source": [
    "# Circadian network\n",
    "node_table_filepath = '../data/temporal_data/circadian/circadian_temporal_node_data_mean_normalised_full.csv'\n",
    "static_network_filepath = '../data/static_networks/circadian_full.edgelist'\n",
    "binary = False\n",
    "normalise = None\n",
    "threshold = 0.0\n",
    "\n",
    "node_table = pd.read_csv(node_table_filepath, sep='\\t', index_col=0)\n",
    "static_network = networkx.read_edgelist(static_network_filepath, delimiter=', ')\n",
    "\n",
    "temporal_network = TemporalNetwork.from_static_network_and_node_table_dataframe(\n",
    "    static_network,\n",
    "    node_table,\n",
    "    combine_node_weights=lambda x, y: x*y,\n",
    "    threshold=threshold,\n",
    "    binary=binary,\n",
    "    normalise=normalise)\n",
    "temporal_network_name = \\\n",
    "    f'{pathlib.Path(node_table_filepath).stem}, binary={binary}, normalise={normalise}, threshold={threshold}'\n",
    "\n",
    "# # Cell cycle network\n",
    "# temporal_network_filepath = '../data/temporal_networks/cell_cycle/tedges_combined_weighted_binary_method_percentage_p_0.5_clean2.tedges'\n",
    "# temporal_network_separator = '\\\\s*\\\\t\\\\s*'\n",
    "#\n",
    "# edges = pd.read_csv(temporal_network_filepath, sep=temporal_network_separator, engine='python')\n",
    "# temporal_network = TemporalNetwork.from_edge_list_dataframe(edges)\n",
    "# temporal_network_name = pathlib.Path(temporal_network_filepath).stem"
   ],
   "metadata": {
    "collapsed": false,
    "pycharm": {
     "name": "#%%\n"
    }
   }
  },
  {
   "cell_type": "markdown",
   "source": [
    "### Calculate cluster sets for each distance metric"
   ],
   "metadata": {
    "collapsed": false
   }
  },
  {
   "cell_type": "code",
   "execution_count": null,
   "outputs": [],
   "source": [
    "valid_cluster_sets = []\n",
    "for distance_metric in distance_metrics:\n",
    "    try:\n",
    "        snapshots = Snapshots.from_temporal_network(temporal_network, cluster_method, distance_metric)\n",
    "        constructor = HierarchicalClusterSets if cluster_method != 'k_means' else KMeansClusterSets\n",
    "        cluster_sets = constructor(snapshots, cluster_limit_type, cluster_limit_range)\n",
    "        valid_cluster_sets.append((cluster_sets, distance_metric))\n",
    "    except Exception as e:\n",
    "        print(f'Error when distance_metric = {distance_metric}: {e}')"
   ],
   "metadata": {
    "collapsed": false,
    "pycharm": {
     "name": "#%%\n"
    }
   }
  },
  {
   "cell_type": "markdown",
   "source": [
    "### Plot across different distance metrics"
   ],
   "metadata": {
    "collapsed": false
   }
  },
  {
   "cell_type": "code",
   "execution_count": null,
   "outputs": [],
   "source": [
    "gridspec_kw = {\"width_ratios\": [3, 1, 2]}\n",
    "figsize = (9, 4*len(valid_cluster_sets))\n",
    "fig, axs = plt.subplots(len(valid_cluster_sets), 3, figsize=figsize, gridspec_kw=gridspec_kw, sharey='row', sharex='col')\n",
    "\n",
    "for i, (cluster_sets, distance_metric) in enumerate(valid_cluster_sets):\n",
    "    row = (axs[i, 0], axs[i, 1], axs[i, 2])\n",
    "    cluster_sets.plot_and_format_with_average_silhouettes(row, events, phases, time_ticks)\n",
    "\n",
    "    plt.subplots_adjust(wspace=0.4, hspace=0.4)\n",
    "    fontdict = {'horizontalalignment': 'left'}\n",
    "    axs[i, 0].set_title(f'Clusters and silhouette scores (distance_metric = {distance_metric})', fontdict=fontdict, pad=12)\n",
    "\n",
    "title = temporal_network_name + f'\\ncluster_method={cluster_method}, cluster_limit_type={cluster_limit_type}'\n",
    "fig.suptitle(title, y=0.97, weight='bold')\n",
    "\n",
    "# Save\n",
    "if output_directory is not None:\n",
    "    filename = f\"{output_directory}/silhouette_scores_over_distance_metrics_{paths.slugify(temporal_network_name)}\"\n",
    "    plt.savefig(f\"{filename}.png\", dpi=250, bbox_inches=\"tight\")"
   ],
   "metadata": {
    "collapsed": false,
    "pycharm": {
     "name": "#%%\n"
    }
   }
  }
 ],
 "metadata": {
  "kernelspec": {
   "display_name": "Python 3",
   "language": "python",
   "name": "python3"
  },
  "language_info": {
   "codemirror_mode": {
    "name": "ipython",
    "version": 2
   },
   "file_extension": ".py",
   "mimetype": "text/x-python",
   "name": "python",
   "nbconvert_exporter": "python",
   "pygments_lexer": "ipython2",
   "version": "2.7.6"
  }
 },
 "nbformat": 4,
 "nbformat_minor": 0
}