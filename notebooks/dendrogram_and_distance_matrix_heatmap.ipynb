{
 "cells": [
  {
   "cell_type": "code",
   "execution_count": null,
   "outputs": [],
   "source": [
    "import pathlib\n",
    "import networkx\n",
    "import drawing\n",
    "import matplotlib.pyplot as plt\n",
    "import seaborn as sb\n",
    "import pandas as pd\n",
    "\n",
    "from clustering.Snapshots import Snapshots\n",
    "from clustering.ClusterSet.HierarchicalClusterSet import HierarchicalClusterSet\n",
    "from clustering.ClusterSet.KMeansClusterSet import KMeansClusterSet\n",
    "from networks.TemporalNetwork import TemporalNetwork\n",
    "from ODEs.ODEsSolutions import ODEsSolutions\n",
    "from ODEs import ODEs"
   ],
   "metadata": {
    "collapsed": false,
    "pycharm": {
     "name": "#%%\n"
    }
   }
  },
  {
   "cell_type": "markdown",
   "source": [
    "## Declare parameters to use throughout"
   ],
   "metadata": {
    "collapsed": false
   }
  },
  {
   "cell_type": "code",
   "execution_count": null,
   "outputs": [],
   "source": [
    "distance_metric = 'euclidean'\n",
    "cluster_method = 'ward'\n",
    "cluster_limit_type = 'maxclust'\n",
    "cluster_limit = 7\n",
    "\n",
    "events = [(12 * i, '', 'dashed') for i in range(4 + 1)]\n",
    "phases = [\n",
    "    (0, 12, 'Day 1'),\n",
    "    (12, 24, 'Night 1'),\n",
    "    (24, 36, 'Day 2'),\n",
    "    (36, 48, 'Night 2')]\n",
    "\n",
    "ode_filepath = None\n",
    "ode_variables = []\n",
    "xpp_alias = 'xppmac64'\n",
    "\n",
    "output_directory = None"
   ],
   "metadata": {
    "collapsed": false,
    "pycharm": {
     "name": "#%%\n"
    }
   }
  },
  {
   "cell_type": "markdown",
   "source": [
    "## Load temporal network\n",
    "\n",
    "Can be done in a number of ways; see constructors for TemporalNetwork for full list of options."
   ],
   "metadata": {
    "collapsed": false
   }
  },
  {
   "cell_type": "code",
   "execution_count": null,
   "outputs": [],
   "source": [
    "node_table_filepath = '../data/temporal_data/circadian/circadian_temporal_node_data_mean_48.csv'\n",
    "static_network_filepath = '../data/static_networks/circadian_net.edgelist'\n",
    "\n",
    "node_table = pd.read_csv(node_table_filepath, sep='\\t', index_col=0)\n",
    "static_network = networkx.read_edgelist(static_network_filepath)\n",
    "\n",
    "temporal_network = TemporalNetwork.from_static_network_and_node_table_dataframe(\n",
    "    static_network,\n",
    "    node_table,\n",
    "    combine_node_weights=lambda x, y: x*y,\n",
    "    threshold=0.5,\n",
    "    binary=True,\n",
    "    normalise=True)\n",
    "temporal_network_name = pathlib.Path(static_network_filepath).stem"
   ],
   "metadata": {
    "collapsed": false,
    "pycharm": {
     "name": "#%%\n"
    }
   }
  },
  {
   "cell_type": "markdown",
   "source": [
    "## Solve system of ODEs (if applicable)"
   ],
   "metadata": {
    "collapsed": false
   }
  },
  {
   "cell_type": "code",
   "execution_count": null,
   "outputs": [],
   "source": [
    "if ode_filepath is not None:\n",
    "    start_time = int(temporal_network.true_times[0])\n",
    "    end_time = 1 + int(temporal_network.true_times[-1])\n",
    "    odes_solutions = ODEsSolutions(ode_filepath, start_time, end_time, xpp_alias)\n",
    "else:\n",
    "    odes_solutions = None"
   ],
   "metadata": {
    "collapsed": false,
    "pycharm": {
     "name": "#%%\n"
    }
   }
  },
  {
   "cell_type": "markdown",
   "source": [
    "## Compute single set of clusters"
   ],
   "metadata": {
    "collapsed": false
   }
  },
  {
   "cell_type": "code",
   "execution_count": null,
   "outputs": [],
   "source": [
    "snapshots = Snapshots.from_temporal_network(temporal_network, cluster_method, distance_metric)\n",
    "constructor = HierarchicalClusterSet if cluster_method != 'k_means' else KMeansClusterSet\n",
    "cluster_set = constructor(snapshots, cluster_limit_type, cluster_limit)"
   ],
   "metadata": {
    "collapsed": false,
    "pycharm": {
     "name": "#%%\n"
    }
   }
  },
  {
   "cell_type": "markdown",
   "source": [
    "## Plot dendrogram, scatter graph and ODE variables"
   ],
   "metadata": {
    "collapsed": false
   }
  },
  {
   "cell_type": "code",
   "execution_count": null,
   "outputs": [],
   "source": [
    "drawing.utils.configure_sch_color_map()\n",
    "sb.set_palette('Dark2', n_colors=8)\n",
    "norm = True\n",
    "fig = plt.figure(figsize=(8, 6))\n",
    "\n",
    "# Plot\n",
    "if cluster_method != 'k_means':\n",
    "    ax1 = fig.add_subplot(3, 1, 1)\n",
    "    cluster_set.plot_dendrogram(ax=ax1)\n",
    "\n",
    "ax2 = fig.add_subplot(3, 1, 2)\n",
    "cluster_set.plot(ax=ax2)\n",
    "ODEs.plot_events(events, ax=ax2, y_pos=0.005, text_x_offset=1)\n",
    "ODEs.plot_phases(phases, ax=ax2, y_pos=0.15, ymax=0.3)\n",
    "\n",
    "if ode_filepath is not None:\n",
    "    ax3 = fig.add_subplot(3, 1, 3)\n",
    "    odes_solutions.plot_concentrations(ode_variables, ax=ax3, norm=norm)\n",
    "\n",
    "# Format\n",
    "if cluster_method != 'k_means':\n",
    "    ax1.set_ylabel('Distance threshold')\n",
    "    ax1.set_xlabel(\"Times\")\n",
    "    ax1.set_title('Dendrogram: hierarchical clustering of snapshots', weight=\"bold\")\n",
    "\n",
    "title = f\"Phases extracted by '{cluster_method}' clustering with '{cluster_limit_type}' = {cluster_limit}\"\n",
    "ax2.set_title(title, weight=\"bold\")\n",
    "ax2.set_yticks([])\n",
    "ax2.set_xticks([6*i for i in range(9)])\n",
    "sb.despine(ax=ax2, left=True)\n",
    "ax2.grid(axis='x')\n",
    "\n",
    "if ode_filepath is not None:\n",
    "    ax3.set_xlabel('Time')\n",
    "    ax3.set_ylabel('Concentration (normed)' if norm else 'Concentration')\n",
    "    sb.despine(ax=ax3)\n",
    "    ax3.autoscale()\n",
    "    ax2.get_shared_x_axes().join(ax2, ax3)\n",
    "\n",
    "fig.tight_layout()\n",
    "\n",
    "# Save\n",
    "if output_directory is not None:\n",
    "    filename = f\"phases_from_clustering_{cluster_limit_type}_{cluster_limit}_method_{cluster_method}\"\n",
    "    filename = f\"{output_directory}/{filename}_{temporal_network_name}\"\n",
    "    plt.savefig(f\"{filename}.png\", dpi=250, bbox_inches=\"tight\")\n",
    "    plt.savefig(f\"{filename}.pdf\", dpi=250, bbox_inches=\"tight\")"
   ],
   "metadata": {
    "collapsed": false,
    "pycharm": {
     "name": "#%%\n"
    }
   }
  },
  {
   "cell_type": "markdown",
   "source": [
    "## Plot distance matrix heatmap"
   ],
   "metadata": {
    "collapsed": false
   }
  },
  {
   "cell_type": "code",
   "execution_count": null,
   "outputs": [],
   "source": [
    "fig, ax = plt.subplots(figsize=(9, 9))\n",
    "cluster_set.snapshots.distance_matrix.plot_heatmap(ax=ax, triangular=True)\n",
    "title = f'Snapshots distance matrix heatmap using \\'{cluster_set.snapshots.distance_matrix.metric}\\' metric'\n",
    "ax.set_title(title, weight='bold')\n",
    "plt.show()"
   ],
   "metadata": {
    "collapsed": false,
    "pycharm": {
     "name": "#%%\n"
    }
   }
  }
 ],
 "metadata": {
  "kernelspec": {
   "display_name": "Python 3",
   "language": "python",
   "name": "python3"
  },
  "language_info": {
   "codemirror_mode": {
    "name": "ipython",
    "version": 2
   },
   "file_extension": ".py",
   "mimetype": "text/x-python",
   "name": "python",
   "nbconvert_exporter": "python",
   "pygments_lexer": "ipython2",
   "version": "2.7.6"
  }
 },
 "nbformat": 4,
 "nbformat_minor": 0
}