{
 "cells": [
  {
   "cell_type": "code",
   "execution_count": null,
   "outputs": [],
   "source": [
    "import pandas as pd\n",
    "import pathlib\n",
    "import networkx\n",
    "import matplotlib.pyplot as plt\n",
    "\n",
    "from clustering.ClusterSets.HierarchicalClusterSets import HierarchicalClusterSets\n",
    "from clustering.ClusterSets.KMeansClusterSets import KMeansClusterSets\n",
    "from clustering.Snapshots import Snapshots\n",
    "from utils import paths\n",
    "from networks.TemporalNetwork import TemporalNetwork"
   ],
   "metadata": {
    "collapsed": false,
    "pycharm": {
     "name": "#%%\n"
    }
   }
  },
  {
   "cell_type": "markdown",
   "source": [
    "## Declare parameters to use throughout"
   ],
   "metadata": {
    "collapsed": false
   }
  },
  {
   "cell_type": "code",
   "execution_count": null,
   "outputs": [],
   "source": [
    "distance_metric = 'euclidean'\n",
    "cluster_method = 'ward'\n",
    "cluster_limit_type = 'maxclust'\n",
    "\n",
    "cluster_limit_range = [2 + (1 * i) for i in range(0, 10)]\n",
    "events = [(24 + 12 * i, '', 'dashed') for i in range(4)]\n",
    "phases = [\n",
    "    (18, 24, 'N'),\n",
    "    (24, 36, 'Day'),\n",
    "    (36, 48, 'Night'),\n",
    "    (48, 60, 'Day'),\n",
    "    (60, 66, 'N')]\n",
    "time_ticks = [18 + 6*i for i in range(8 + 1)]\n",
    "\n",
    "\n",
    "output_directory = '../data/output'"
   ],
   "metadata": {
    "collapsed": false,
    "pycharm": {
     "name": "#%%\n"
    }
   }
  },
  {
   "cell_type": "markdown",
   "source": [
    "### Load/create temporal networks"
   ],
   "metadata": {
    "collapsed": false,
    "pycharm": {
     "name": "#%% md\n"
    }
   }
  },
  {
   "cell_type": "code",
   "execution_count": null,
   "metadata": {
    "collapsed": true
   },
   "outputs": [],
   "source": [
    "node_table_filepath = '../data/temporal_data/circadian/circadian_temporal_node_data_24_hour_genes_mean_normalised_full.csv'\n",
    "static_network_filepath = '../data/static_networks/circadian_full.edgelist'\n",
    "binary = True\n",
    "normalise = None\n",
    "thresholds = [round(0.1 + (0.1 * i), 1) for i in range(3)]\n",
    "\n",
    "node_table = pd.read_csv(node_table_filepath, sep='\\t', index_col=0)\n",
    "static_network = networkx.read_edgelist(static_network_filepath, delimiter=', ')\n",
    "\n",
    "temporal_networks = [\n",
    "    TemporalNetwork.from_static_network_and_node_table_dataframe(\n",
    "        static_network,\n",
    "        node_table,\n",
    "        combine_node_weights=lambda x, y: x*y,\n",
    "        threshold=threshold,\n",
    "        binary=binary,\n",
    "        normalise=normalise)\n",
    "    for threshold\n",
    "    in thresholds\n",
    "]"
   ]
  },
  {
   "cell_type": "markdown",
   "source": [
    "### Calculate cluster sets for each threshold"
   ],
   "metadata": {
    "collapsed": false,
    "pycharm": {
     "name": "#%% md\n"
    }
   }
  },
  {
   "cell_type": "code",
   "execution_count": null,
   "outputs": [],
   "source": [
    "valid_cluster_sets = []\n",
    "for threshold, temporal_network in zip(thresholds, temporal_networks):\n",
    "    try:\n",
    "        snapshots = Snapshots.from_temporal_network(temporal_network, cluster_method, distance_metric)\n",
    "        constructor = HierarchicalClusterSets if cluster_method != 'k_means' else KMeansClusterSets\n",
    "        cluster_sets = constructor(snapshots, cluster_limit_type, cluster_limit_range)\n",
    "        valid_cluster_sets.append((cluster_sets, threshold))\n",
    "    except Exception as e:\n",
    "        print(f'Error when threshold = {threshold}: {e}')"
   ],
   "metadata": {
    "collapsed": false,
    "pycharm": {
     "name": "#%%\n"
    }
   }
  },
  {
   "cell_type": "markdown",
   "source": [
    "### Plot across different thresholds"
   ],
   "metadata": {
    "collapsed": false,
    "pycharm": {
     "name": "#%% md\n"
    }
   }
  },
  {
   "cell_type": "code",
   "execution_count": null,
   "outputs": [],
   "source": [
    "gridspec_kw = {\"width_ratios\": [3, 1, 2]}\n",
    "figsize = (9, 4*len(valid_cluster_sets))\n",
    "fig, axs = plt.subplots(len(valid_cluster_sets), 3, figsize=figsize, gridspec_kw=gridspec_kw, sharey='row', sharex='col')\n",
    "\n",
    "for i, (cluster_sets, threshold) in enumerate(valid_cluster_sets):\n",
    "    row = (axs[i, 0], axs[i, 1], axs[i, 2])\n",
    "    cluster_sets.plot_and_format_with_average_silhouettes(row, events, phases, time_ticks)\n",
    "\n",
    "    plt.subplots_adjust(wspace=0.4, hspace=0.6)\n",
    "    fontdict = {'horizontalalignment': 'left'}\n",
    "    axs[i, 0].set_title(f'Clusters and silhouette scores (threshold = {threshold})', fontdict=fontdict, pad=30)\n",
    "\n",
    "title = f'{pathlib.Path(node_table_filepath).stem}, binary={binary}, normalise={normalise}'\n",
    "title += f'\\nmetric={distance_metric}, cluster_method={cluster_method}, cluster_limit_type={cluster_limit_type}'\n",
    "fig.suptitle(title, y=0.98, weight='bold')\n",
    "\n",
    "# Save\n",
    "if output_directory is not None:\n",
    "    filename = f\"{output_directory}/silhouette_scores_over_thresholds_{paths.slugify(title)}\"\n",
    "    plt.savefig(f\"{filename}.png\", dpi=250, bbox_inches=\"tight\")"
   ],
   "metadata": {
    "collapsed": false,
    "pycharm": {
     "name": "#%%\n"
    }
   }
  }
 ],
 "metadata": {
  "kernelspec": {
   "display_name": "Python 3",
   "language": "python",
   "name": "python3"
  },
  "language_info": {
   "codemirror_mode": {
    "name": "ipython",
    "version": 2
   },
   "file_extension": ".py",
   "mimetype": "text/x-python",
   "name": "python",
   "nbconvert_exporter": "python",
   "pygments_lexer": "ipython2",
   "version": "2.7.6"
  }
 },
 "nbformat": 4,
 "nbformat_minor": 0
}